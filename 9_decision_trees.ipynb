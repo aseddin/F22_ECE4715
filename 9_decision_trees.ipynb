{
  "nbformat": 4,
  "nbformat_minor": 0,
  "metadata": {
    "colab": {
      "provenance": [],
      "collapsed_sections": [],
      "toc_visible": true,
      "authorship_tag": "ABX9TyOKgqSJcYejRukHrVocZaI2",
      "include_colab_link": true
    },
    "kernelspec": {
      "name": "python3",
      "display_name": "Python 3"
    },
    "language_info": {
      "name": "python"
    }
  },
  "cells": [
    {
      "cell_type": "markdown",
      "metadata": {
        "id": "view-in-github",
        "colab_type": "text"
      },
      "source": [
        "<a href=\"https://colab.research.google.com/github/aseddin/F22_ECE4715/blob/main/9_decision_trees.ipynb\" target=\"_parent\"><img src=\"https://colab.research.google.com/assets/colab-badge.svg\" alt=\"Open In Colab\"/></a>"
      ]
    },
    {
      "cell_type": "markdown",
      "source": [
        "# Decision Trees\n",
        "\n",
        "Trees are machine learning algorithms that can be used for classification and regression. Trees are the fundamental component of random forests, which are powerful and versatile ML algorithms.\n",
        "\n",
        "There are different tree algorithms, we focus on the CART algorithm used by `sklearn`. The CART algorithm produces binary trees (if a node splits, it will have exactly 2 children True/Flase)"
      ],
      "metadata": {
        "id": "V8x9T_zHXp_l"
      }
    },
    {
      "cell_type": "code",
      "source": [
        "# code to set things up\n",
        "\n",
        "# importing common libraries\n",
        "import numpy as np\n",
        "import pandas as pd\n",
        "\n",
        "# Things related to figures and plots\n",
        "# make figures look nicer\n",
        "import matplotlib.pyplot as plt\n",
        "\n",
        "plt.rc('font', size=14)\n",
        "plt.rc('axes', labelsize=14, titlesize=14)\n",
        "plt.rc('legend', fontsize=14)\n",
        "plt.rc('xtick', labelsize=10)\n",
        "plt.rc('ytick', labelsize=10)\n",
        "\n",
        "# figure saving function\n",
        "from pathlib import Path\n",
        "IMAGES_PATH = Path() / \"images\" / \"decision_trees\"\n",
        "IMAGES_PATH.mkdir(parents=True, exist_ok=True)\n",
        "\n",
        "def save_fig(fig_id, tight_layout=True, fig_extension=\"png\", resolution=300):\n",
        "  path = IMAGES_PATH / f\"{fig_id}.{fig_extension}\"\n",
        "  if tight_layout:\n",
        "    plt.tight_layout()\n",
        "  plt.savefig(path, format=fig_extension, dpi=resolution)"
      ],
      "metadata": {
        "id": "EMSRe-66X3Gd"
      },
      "execution_count": 322,
      "outputs": []
    },
    {
      "cell_type": "markdown",
      "source": [
        "# Training and Visulazing a Decision Tree\n",
        "\n",
        "Trees do not require much data preparation (i.e. no need to scale the data or center it)"
      ],
      "metadata": {
        "id": "-oqWBNkMfdc3"
      }
    },
    {
      "cell_type": "code",
      "source": [
        "# Load the Iris dataset\n",
        "from sklearn import datasets\n",
        "\n",
        "iris = datasets.load_iris(as_frame=True)\n",
        "X_iris = iris.data[[\"petal length (cm)\", \"petal width (cm)\"]].values\n",
        "y_iris = iris.target"
      ],
      "metadata": {
        "id": "shTvx6cZZlYj"
      },
      "execution_count": 323,
      "outputs": []
    },
    {
      "cell_type": "code",
      "source": [
        "# Train a tree Decision Tree Classifier\n",
        "\n",
        "from sklearn.tree import DecisionTreeClassifier\n",
        "\n",
        "max_depth = 2\n",
        "#max_depth = None\n",
        "\n",
        "random_state = 42\n",
        "#random_state = 40 # generates a completly different decision boundary\n",
        "\n",
        "tree_clf = DecisionTreeClassifier(max_depth=max_depth, random_state=random_state)\n",
        "tree_clf.fit(X_iris, y_iris)\n",
        "\n"
      ],
      "metadata": {
        "colab": {
          "base_uri": "https://localhost:8080/",
          "height": 75
        },
        "id": "lCXjW-DJfuBE",
        "outputId": "0bc4c19e-14d3-4c80-f38a-d00d2075f9cb"
      },
      "execution_count": 324,
      "outputs": [
        {
          "output_type": "execute_result",
          "data": {
            "text/plain": [
              "DecisionTreeClassifier(max_depth=2, random_state=42)"
            ],
            "text/html": [
              "<style>#sk-70764979-a300-4061-80c1-b4df3881ad94 {color: black;background-color: white;}#sk-70764979-a300-4061-80c1-b4df3881ad94 pre{padding: 0;}#sk-70764979-a300-4061-80c1-b4df3881ad94 div.sk-toggleable {background-color: white;}#sk-70764979-a300-4061-80c1-b4df3881ad94 label.sk-toggleable__label {cursor: pointer;display: block;width: 100%;margin-bottom: 0;padding: 0.3em;box-sizing: border-box;text-align: center;}#sk-70764979-a300-4061-80c1-b4df3881ad94 label.sk-toggleable__label-arrow:before {content: \"▸\";float: left;margin-right: 0.25em;color: #696969;}#sk-70764979-a300-4061-80c1-b4df3881ad94 label.sk-toggleable__label-arrow:hover:before {color: black;}#sk-70764979-a300-4061-80c1-b4df3881ad94 div.sk-estimator:hover label.sk-toggleable__label-arrow:before {color: black;}#sk-70764979-a300-4061-80c1-b4df3881ad94 div.sk-toggleable__content {max-height: 0;max-width: 0;overflow: hidden;text-align: left;background-color: #f0f8ff;}#sk-70764979-a300-4061-80c1-b4df3881ad94 div.sk-toggleable__content pre {margin: 0.2em;color: black;border-radius: 0.25em;background-color: #f0f8ff;}#sk-70764979-a300-4061-80c1-b4df3881ad94 input.sk-toggleable__control:checked~div.sk-toggleable__content {max-height: 200px;max-width: 100%;overflow: auto;}#sk-70764979-a300-4061-80c1-b4df3881ad94 input.sk-toggleable__control:checked~label.sk-toggleable__label-arrow:before {content: \"▾\";}#sk-70764979-a300-4061-80c1-b4df3881ad94 div.sk-estimator input.sk-toggleable__control:checked~label.sk-toggleable__label {background-color: #d4ebff;}#sk-70764979-a300-4061-80c1-b4df3881ad94 div.sk-label input.sk-toggleable__control:checked~label.sk-toggleable__label {background-color: #d4ebff;}#sk-70764979-a300-4061-80c1-b4df3881ad94 input.sk-hidden--visually {border: 0;clip: rect(1px 1px 1px 1px);clip: rect(1px, 1px, 1px, 1px);height: 1px;margin: -1px;overflow: hidden;padding: 0;position: absolute;width: 1px;}#sk-70764979-a300-4061-80c1-b4df3881ad94 div.sk-estimator {font-family: monospace;background-color: #f0f8ff;border: 1px dotted black;border-radius: 0.25em;box-sizing: border-box;margin-bottom: 0.5em;}#sk-70764979-a300-4061-80c1-b4df3881ad94 div.sk-estimator:hover {background-color: #d4ebff;}#sk-70764979-a300-4061-80c1-b4df3881ad94 div.sk-parallel-item::after {content: \"\";width: 100%;border-bottom: 1px solid gray;flex-grow: 1;}#sk-70764979-a300-4061-80c1-b4df3881ad94 div.sk-label:hover label.sk-toggleable__label {background-color: #d4ebff;}#sk-70764979-a300-4061-80c1-b4df3881ad94 div.sk-serial::before {content: \"\";position: absolute;border-left: 1px solid gray;box-sizing: border-box;top: 2em;bottom: 0;left: 50%;}#sk-70764979-a300-4061-80c1-b4df3881ad94 div.sk-serial {display: flex;flex-direction: column;align-items: center;background-color: white;padding-right: 0.2em;padding-left: 0.2em;}#sk-70764979-a300-4061-80c1-b4df3881ad94 div.sk-item {z-index: 1;}#sk-70764979-a300-4061-80c1-b4df3881ad94 div.sk-parallel {display: flex;align-items: stretch;justify-content: center;background-color: white;}#sk-70764979-a300-4061-80c1-b4df3881ad94 div.sk-parallel::before {content: \"\";position: absolute;border-left: 1px solid gray;box-sizing: border-box;top: 2em;bottom: 0;left: 50%;}#sk-70764979-a300-4061-80c1-b4df3881ad94 div.sk-parallel-item {display: flex;flex-direction: column;position: relative;background-color: white;}#sk-70764979-a300-4061-80c1-b4df3881ad94 div.sk-parallel-item:first-child::after {align-self: flex-end;width: 50%;}#sk-70764979-a300-4061-80c1-b4df3881ad94 div.sk-parallel-item:last-child::after {align-self: flex-start;width: 50%;}#sk-70764979-a300-4061-80c1-b4df3881ad94 div.sk-parallel-item:only-child::after {width: 0;}#sk-70764979-a300-4061-80c1-b4df3881ad94 div.sk-dashed-wrapped {border: 1px dashed gray;margin: 0 0.4em 0.5em 0.4em;box-sizing: border-box;padding-bottom: 0.4em;background-color: white;position: relative;}#sk-70764979-a300-4061-80c1-b4df3881ad94 div.sk-label label {font-family: monospace;font-weight: bold;background-color: white;display: inline-block;line-height: 1.2em;}#sk-70764979-a300-4061-80c1-b4df3881ad94 div.sk-label-container {position: relative;z-index: 2;text-align: center;}#sk-70764979-a300-4061-80c1-b4df3881ad94 div.sk-container {/* jupyter's `normalize.less` sets `[hidden] { display: none; }` but bootstrap.min.css set `[hidden] { display: none !important; }` so we also need the `!important` here to be able to override the default hidden behavior on the sphinx rendered scikit-learn.org. See: https://github.com/scikit-learn/scikit-learn/issues/21755 */display: inline-block !important;position: relative;}#sk-70764979-a300-4061-80c1-b4df3881ad94 div.sk-text-repr-fallback {display: none;}</style><div id=\"sk-70764979-a300-4061-80c1-b4df3881ad94\" class=\"sk-top-container\"><div class=\"sk-text-repr-fallback\"><pre>DecisionTreeClassifier(max_depth=2, random_state=42)</pre><b>Please rerun this cell to show the HTML repr or trust the notebook.</b></div><div class=\"sk-container\" hidden><div class=\"sk-item\"><div class=\"sk-estimator sk-toggleable\"><input class=\"sk-toggleable__control sk-hidden--visually\" id=\"1df19718-5fa1-4b8a-8e22-18813b718630\" type=\"checkbox\" checked><label for=\"1df19718-5fa1-4b8a-8e22-18813b718630\" class=\"sk-toggleable__label sk-toggleable__label-arrow\">DecisionTreeClassifier</label><div class=\"sk-toggleable__content\"><pre>DecisionTreeClassifier(max_depth=2, random_state=42)</pre></div></div></div></div></div>"
            ]
          },
          "metadata": {},
          "execution_count": 324
        }
      ]
    },
    {
      "cell_type": "markdown",
      "source": [
        "We can use [Graphviz](https://graphviz.org/) to visualize the tree."
      ],
      "metadata": {
        "id": "_Eyg26qEjKMJ"
      }
    },
    {
      "cell_type": "code",
      "source": [
        "# Visualize the tree\n",
        "from sklearn.tree import export_graphviz\n",
        "from graphviz import Source\n",
        "\n",
        "# Export the tree as graphvis\n",
        "export_graphviz(\n",
        "    tree_clf,\n",
        "    out_file=str(IMAGES_PATH / \"iris_tree.dot\"),\n",
        "    feature_names=[\"petal length (cm)\", \"petal width (cm)\"],\n",
        "    class_names=iris.target_names,\n",
        "    rounded=True,\n",
        "    filled=True\n",
        ")\n",
        "\n",
        "Source.from_file(IMAGES_PATH / \"iris_tree.dot\")\n",
        "\n"
      ],
      "metadata": {
        "colab": {
          "base_uri": "https://localhost:8080/",
          "height": 440
        },
        "id": "Y5sbIBVsf95M",
        "outputId": "f4e89d77-65e2-4a3e-fd63-375538508324"
      },
      "execution_count": 325,
      "outputs": [
        {
          "output_type": "execute_result",
          "data": {
            "text/plain": [
              "<graphviz.files.Source at 0x7f29a0dd54d0>"
            ],
            "image/svg+xml": "<?xml version=\"1.0\" encoding=\"UTF-8\" standalone=\"no\"?>\n<!DOCTYPE svg PUBLIC \"-//W3C//DTD SVG 1.1//EN\"\n \"http://www.w3.org/Graphics/SVG/1.1/DTD/svg11.dtd\">\n<!-- Generated by graphviz version 2.40.1 (20161225.0304)\n -->\n<!-- Title: Tree Pages: 1 -->\n<svg width=\"368pt\" height=\"314pt\"\n viewBox=\"0.00 0.00 368.00 314.00\" xmlns=\"http://www.w3.org/2000/svg\" xmlns:xlink=\"http://www.w3.org/1999/xlink\">\n<g id=\"graph0\" class=\"graph\" transform=\"scale(1 1) rotate(0) translate(4 310)\">\n<title>Tree</title>\n<polygon fill=\"#ffffff\" stroke=\"transparent\" points=\"-4,4 -4,-310 364,-310 364,4 -4,4\"/>\n<!-- 0 -->\n<g id=\"node1\" class=\"node\">\n<title>0</title>\n<path fill=\"#ffffff\" stroke=\"#000000\" d=\"M219.5,-306C219.5,-306 67.5,-306 67.5,-306 61.5,-306 55.5,-300 55.5,-294 55.5,-294 55.5,-235 55.5,-235 55.5,-229 61.5,-223 67.5,-223 67.5,-223 219.5,-223 219.5,-223 225.5,-223 231.5,-229 231.5,-235 231.5,-235 231.5,-294 231.5,-294 231.5,-300 225.5,-306 219.5,-306\"/>\n<text text-anchor=\"middle\" x=\"143.5\" y=\"-290.8\" font-family=\"Helvetica,sans-Serif\" font-size=\"14.00\" fill=\"#000000\">petal length (cm) &lt;= 2.45</text>\n<text text-anchor=\"middle\" x=\"143.5\" y=\"-275.8\" font-family=\"Helvetica,sans-Serif\" font-size=\"14.00\" fill=\"#000000\">gini = 0.667</text>\n<text text-anchor=\"middle\" x=\"143.5\" y=\"-260.8\" font-family=\"Helvetica,sans-Serif\" font-size=\"14.00\" fill=\"#000000\">samples = 150</text>\n<text text-anchor=\"middle\" x=\"143.5\" y=\"-245.8\" font-family=\"Helvetica,sans-Serif\" font-size=\"14.00\" fill=\"#000000\">value = [50, 50, 50]</text>\n<text text-anchor=\"middle\" x=\"143.5\" y=\"-230.8\" font-family=\"Helvetica,sans-Serif\" font-size=\"14.00\" fill=\"#000000\">class = setosa</text>\n</g>\n<!-- 1 -->\n<g id=\"node2\" class=\"node\">\n<title>1</title>\n<path fill=\"#e58139\" stroke=\"#000000\" d=\"M111,-179.5C111,-179.5 12,-179.5 12,-179.5 6,-179.5 0,-173.5 0,-167.5 0,-167.5 0,-123.5 0,-123.5 0,-117.5 6,-111.5 12,-111.5 12,-111.5 111,-111.5 111,-111.5 117,-111.5 123,-117.5 123,-123.5 123,-123.5 123,-167.5 123,-167.5 123,-173.5 117,-179.5 111,-179.5\"/>\n<text text-anchor=\"middle\" x=\"61.5\" y=\"-164.3\" font-family=\"Helvetica,sans-Serif\" font-size=\"14.00\" fill=\"#000000\">gini = 0.0</text>\n<text text-anchor=\"middle\" x=\"61.5\" y=\"-149.3\" font-family=\"Helvetica,sans-Serif\" font-size=\"14.00\" fill=\"#000000\">samples = 50</text>\n<text text-anchor=\"middle\" x=\"61.5\" y=\"-134.3\" font-family=\"Helvetica,sans-Serif\" font-size=\"14.00\" fill=\"#000000\">value = [50, 0, 0]</text>\n<text text-anchor=\"middle\" x=\"61.5\" y=\"-119.3\" font-family=\"Helvetica,sans-Serif\" font-size=\"14.00\" fill=\"#000000\">class = setosa</text>\n</g>\n<!-- 0&#45;&gt;1 -->\n<g id=\"edge1\" class=\"edge\">\n<title>0&#45;&gt;1</title>\n<path fill=\"none\" stroke=\"#000000\" d=\"M114.8204,-222.8796C107.0917,-211.6636 98.7191,-199.5131 90.9492,-188.2372\"/>\n<polygon fill=\"#000000\" stroke=\"#000000\" points=\"93.7018,-186.0634 85.1456,-179.8149 87.9377,-190.0353 93.7018,-186.0634\"/>\n<text text-anchor=\"middle\" x=\"80.6196\" y=\"-200.7018\" font-family=\"Helvetica,sans-Serif\" font-size=\"14.00\" fill=\"#000000\">True</text>\n</g>\n<!-- 2 -->\n<g id=\"node3\" class=\"node\">\n<title>2</title>\n<path fill=\"#ffffff\" stroke=\"#000000\" d=\"M299.5,-187C299.5,-187 153.5,-187 153.5,-187 147.5,-187 141.5,-181 141.5,-175 141.5,-175 141.5,-116 141.5,-116 141.5,-110 147.5,-104 153.5,-104 153.5,-104 299.5,-104 299.5,-104 305.5,-104 311.5,-110 311.5,-116 311.5,-116 311.5,-175 311.5,-175 311.5,-181 305.5,-187 299.5,-187\"/>\n<text text-anchor=\"middle\" x=\"226.5\" y=\"-171.8\" font-family=\"Helvetica,sans-Serif\" font-size=\"14.00\" fill=\"#000000\">petal width (cm) &lt;= 1.75</text>\n<text text-anchor=\"middle\" x=\"226.5\" y=\"-156.8\" font-family=\"Helvetica,sans-Serif\" font-size=\"14.00\" fill=\"#000000\">gini = 0.5</text>\n<text text-anchor=\"middle\" x=\"226.5\" y=\"-141.8\" font-family=\"Helvetica,sans-Serif\" font-size=\"14.00\" fill=\"#000000\">samples = 100</text>\n<text text-anchor=\"middle\" x=\"226.5\" y=\"-126.8\" font-family=\"Helvetica,sans-Serif\" font-size=\"14.00\" fill=\"#000000\">value = [0, 50, 50]</text>\n<text text-anchor=\"middle\" x=\"226.5\" y=\"-111.8\" font-family=\"Helvetica,sans-Serif\" font-size=\"14.00\" fill=\"#000000\">class = versicolor</text>\n</g>\n<!-- 0&#45;&gt;2 -->\n<g id=\"edge2\" class=\"edge\">\n<title>0&#45;&gt;2</title>\n<path fill=\"none\" stroke=\"#000000\" d=\"M172.5294,-222.8796C178.6855,-214.0534 185.2451,-204.6485 191.5936,-195.5466\"/>\n<polygon fill=\"#000000\" stroke=\"#000000\" points=\"194.4967,-197.5024 197.3467,-187.2981 188.7552,-193.4978 194.4967,-197.5024\"/>\n<text text-anchor=\"middle\" x=\"201.7331\" y=\"-208.2103\" font-family=\"Helvetica,sans-Serif\" font-size=\"14.00\" fill=\"#000000\">False</text>\n</g>\n<!-- 3 -->\n<g id=\"node4\" class=\"node\">\n<title>3</title>\n<path fill=\"#4de88e\" stroke=\"#000000\" d=\"M206.5,-68C206.5,-68 102.5,-68 102.5,-68 96.5,-68 90.5,-62 90.5,-56 90.5,-56 90.5,-12 90.5,-12 90.5,-6 96.5,0 102.5,0 102.5,0 206.5,0 206.5,0 212.5,0 218.5,-6 218.5,-12 218.5,-12 218.5,-56 218.5,-56 218.5,-62 212.5,-68 206.5,-68\"/>\n<text text-anchor=\"middle\" x=\"154.5\" y=\"-52.8\" font-family=\"Helvetica,sans-Serif\" font-size=\"14.00\" fill=\"#000000\">gini = 0.168</text>\n<text text-anchor=\"middle\" x=\"154.5\" y=\"-37.8\" font-family=\"Helvetica,sans-Serif\" font-size=\"14.00\" fill=\"#000000\">samples = 54</text>\n<text text-anchor=\"middle\" x=\"154.5\" y=\"-22.8\" font-family=\"Helvetica,sans-Serif\" font-size=\"14.00\" fill=\"#000000\">value = [0, 49, 5]</text>\n<text text-anchor=\"middle\" x=\"154.5\" y=\"-7.8\" font-family=\"Helvetica,sans-Serif\" font-size=\"14.00\" fill=\"#000000\">class = versicolor</text>\n</g>\n<!-- 2&#45;&gt;3 -->\n<g id=\"edge3\" class=\"edge\">\n<title>2&#45;&gt;3</title>\n<path fill=\"none\" stroke=\"#000000\" d=\"M199.6899,-103.9815C193.9331,-95.0666 187.8404,-85.6313 182.0559,-76.6734\"/>\n<polygon fill=\"#000000\" stroke=\"#000000\" points=\"184.9904,-74.7658 176.6254,-68.2637 179.1099,-78.5631 184.9904,-74.7658\"/>\n</g>\n<!-- 4 -->\n<g id=\"node5\" class=\"node\">\n<title>4</title>\n<path fill=\"#843de6\" stroke=\"#000000\" d=\"M348,-68C348,-68 249,-68 249,-68 243,-68 237,-62 237,-56 237,-56 237,-12 237,-12 237,-6 243,0 249,0 249,0 348,0 348,0 354,0 360,-6 360,-12 360,-12 360,-56 360,-56 360,-62 354,-68 348,-68\"/>\n<text text-anchor=\"middle\" x=\"298.5\" y=\"-52.8\" font-family=\"Helvetica,sans-Serif\" font-size=\"14.00\" fill=\"#000000\">gini = 0.043</text>\n<text text-anchor=\"middle\" x=\"298.5\" y=\"-37.8\" font-family=\"Helvetica,sans-Serif\" font-size=\"14.00\" fill=\"#000000\">samples = 46</text>\n<text text-anchor=\"middle\" x=\"298.5\" y=\"-22.8\" font-family=\"Helvetica,sans-Serif\" font-size=\"14.00\" fill=\"#000000\">value = [0, 1, 45]</text>\n<text text-anchor=\"middle\" x=\"298.5\" y=\"-7.8\" font-family=\"Helvetica,sans-Serif\" font-size=\"14.00\" fill=\"#000000\">class = virginica</text>\n</g>\n<!-- 2&#45;&gt;4 -->\n<g id=\"edge4\" class=\"edge\">\n<title>2&#45;&gt;4</title>\n<path fill=\"none\" stroke=\"#000000\" d=\"M253.3101,-103.9815C259.0669,-95.0666 265.1596,-85.6313 270.9441,-76.6734\"/>\n<polygon fill=\"#000000\" stroke=\"#000000\" points=\"273.8901,-78.5631 276.3746,-68.2637 268.0096,-74.7658 273.8901,-78.5631\"/>\n</g>\n</g>\n</svg>\n"
          },
          "metadata": {},
          "execution_count": 325
        }
      ]
    },
    {
      "cell_type": "markdown",
      "source": [
        "# Making Predictions\n",
        "\n",
        "Predictions are simple to make once you have a trained tree. Let's use the graphvis output above to make predictions and learn how to read the graph.\n",
        "\n",
        "* The top of the graph shows the root node (depth 0)\n",
        "* The middle nodes are depth 1, and the last nodes are depth 2\n",
        "* Nodes without children are leaf nodes\n",
        "* Nodes with children are split nodes\n",
        "* The tree is binary (left=True, right=False) because we use the CART algorithm to fit the tree\n",
        "\n",
        "Let's predict the class for a new iris flower with petal length = 2.1 and petal width = 5.2. The root node asks if the petal length <= 2.45, in this case it is so you end up in the leaf node at depth 1, which indicate the class is setosa\n",
        "\n",
        "Let's predict the class for another iris flower with petal length = 5.5 and petal width = 1.5. The root node (petal length <= 2.45) leads us to the split node on depth 1. This in turn asks if the petal width <= 1.75, which it is so we end up in the green leaf node indicating the class is versicolor"
      ],
      "metadata": {
        "id": "yIp0_Iz_guZu"
      }
    },
    {
      "cell_type": "code",
      "source": [
        "X_test = [\n",
        "    [2.1, 5.2],\n",
        "    [5.5, 1.5]\n",
        "]\n",
        "\n",
        "tree_clf.predict(X_test)"
      ],
      "metadata": {
        "colab": {
          "base_uri": "https://localhost:8080/"
        },
        "id": "v6nZAx_YmBTE",
        "outputId": "be474ffb-5e4e-474b-ce82-db41d11314f4"
      },
      "execution_count": 326,
      "outputs": [
        {
          "output_type": "execute_result",
          "data": {
            "text/plain": [
              "array([0, 1])"
            ]
          },
          "metadata": {},
          "execution_count": 326
        }
      ]
    },
    {
      "cell_type": "code",
      "source": [
        "iris.target_names"
      ],
      "metadata": {
        "colab": {
          "base_uri": "https://localhost:8080/"
        },
        "id": "iCfIMP3dmK2N",
        "outputId": "356b3d43-da25-445c-b32d-e3d2ea31245e"
      },
      "execution_count": 327,
      "outputs": [
        {
          "output_type": "execute_result",
          "data": {
            "text/plain": [
              "array(['setosa', 'versicolor', 'virginica'], dtype='<U10')"
            ]
          },
          "metadata": {},
          "execution_count": 327
        }
      ]
    },
    {
      "cell_type": "markdown",
      "source": [
        "The nodes of the tree show additional info:\n",
        "\n",
        "* `samples`: Counts how many training instances it applies to. There are 150 instances at the root node, 50 have petal length <= 2.45. Out of the 100 instances left, 54 have petal width <= 1.75 and 46 have petal width >1.75\n",
        "* `value`: How many training instances of each class this node applies to. For exmple, the green leaf node applies to 0 Setosa, 49 versicolor and 5 virginica\n",
        "* `gini`: Measures the _Gini impurity_. The node is \"pure\" (`gini=0`) if all training instances it applies to belong to the same class. Orange leaf (right node/depth 1) applies to setosa flower only. "
      ],
      "metadata": {
        "id": "_npMRbaYmPh5"
      }
    },
    {
      "cell_type": "markdown",
      "source": [
        "## Computing the Gini Impurity\n",
        "The _Gini impurity_ $G_i$ for a node $i$ can be calculated as:\n",
        "$$\n",
        "G_i = 1 - \\sum_{k=1}^{n} p_{i, k}^2\n",
        "$$\n",
        "\n",
        "Where $p_{i, k}$ is the ratio of instances belonging to class $k$ among all training instances in the $i$ node\n",
        "\n",
        "* For the orange node (left node/depth 1):\n",
        "$$\n",
        "G_1 = 1 - (\\frac{50}{50})^2 - (\\frac{0}{50})^2 - (\\frac{0}{50})^2 = 0\n",
        "$$\n",
        "\n",
        "* For green node (left node/depth 2)\n",
        "$$\n",
        "G_3 = 1 - (\\frac{0}{54})^2 - (\\frac{49}{54})^2 - (\\frac{5}{54})^2 = 0.1680384087791\n",
        "$$\n",
        "\n",
        "* For magenta node (right node/depth 2)\n",
        "$$\n",
        "G_4 = 1 - (\\frac{0}{46})^2 - (\\frac{1}{46})^2 - (\\frac{45}{46})^2 = 0.04253308129\n",
        "$$"
      ],
      "metadata": {
        "id": "UP-C-DzGp8Sd"
      }
    },
    {
      "cell_type": "markdown",
      "source": [
        "## Estimating Class Probabilities\n",
        "\n",
        "For a specific instance, traverse the tree and find the leaf node for the instance. The probabilities for each class can be computed using the ratio of training instances in that leaf node and its number of samples.\n",
        "\n",
        "Examples:\n",
        "* Instance `[1.2, 5.2]` will end up in (left node/depth 1). The prbabilities are:\n",
        "   * $p(k=0) = \\frac{50}{50} = 1$ (PREDICTED CLASS)\n",
        "   * $p(k=0) = \\frac{0}{50} = 0$\n",
        "   * $p(k=0) = \\frac{0}{50} = 0$\n",
        "\n",
        "\n",
        "* Instance `[5.5, 1.5]` will end up in (left node/depth 2). The prbabilities are:\n",
        "   * $p(k=0) = \\frac{0}{54} = 0$\n",
        "   * $p(k=0) = \\frac{49}{54} = 0.90740741$ (PREDICTED CLASS)\n",
        "   * $p(k=0) = \\frac{5}{54} = 0.09259259$"
      ],
      "metadata": {
        "id": "CrQd_o8zrzxR"
      }
    },
    {
      "cell_type": "code",
      "source": [
        "X_test"
      ],
      "metadata": {
        "colab": {
          "base_uri": "https://localhost:8080/"
        },
        "id": "vaSn2N1Pu_T0",
        "outputId": "a1669f13-80e4-4b9c-ff0c-857795a79f09"
      },
      "execution_count": 328,
      "outputs": [
        {
          "output_type": "execute_result",
          "data": {
            "text/plain": [
              "[[2.1, 5.2], [5.5, 1.5]]"
            ]
          },
          "metadata": {},
          "execution_count": 328
        }
      ]
    },
    {
      "cell_type": "code",
      "source": [
        "tree_clf.predict_proba(X_test)"
      ],
      "metadata": {
        "colab": {
          "base_uri": "https://localhost:8080/"
        },
        "id": "0-168L9ate1G",
        "outputId": "d2b70a0e-b7a1-41af-d785-2434c9d5e2cf"
      },
      "execution_count": 329,
      "outputs": [
        {
          "output_type": "execute_result",
          "data": {
            "text/plain": [
              "array([[1.        , 0.        , 0.        ],\n",
              "       [0.        , 0.90740741, 0.09259259]])"
            ]
          },
          "metadata": {},
          "execution_count": 329
        }
      ]
    },
    {
      "cell_type": "code",
      "source": [
        "tree_clf.predict(X_test)"
      ],
      "metadata": {
        "colab": {
          "base_uri": "https://localhost:8080/"
        },
        "id": "cD5KIrDXu-iF",
        "outputId": "7840b5a2-280e-4014-b208-0cd145397c96"
      },
      "execution_count": 330,
      "outputs": [
        {
          "output_type": "execute_result",
          "data": {
            "text/plain": [
              "array([0, 1])"
            ]
          },
          "metadata": {},
          "execution_count": 330
        }
      ]
    },
    {
      "cell_type": "markdown",
      "source": [
        "## Ploting the Decision Boundaries"
      ],
      "metadata": {
        "id": "h1-TmkWCvjk-"
      }
    },
    {
      "cell_type": "code",
      "source": [
        "plt.figure(figsize=(8, 4))\n",
        "\n",
        "lengths, widths = np.meshgrid(np.linspace(0, 7.2, 100), np.linspace(0, 3, 100))\n",
        "X_iris_all = np.c_[lengths.ravel(), widths.ravel()]\n",
        "y_pred = tree_clf.predict(X_iris_all).reshape(lengths.shape)\n",
        "plt.contourf(lengths, widths, y_pred, alpha=0.3)\n",
        "\n",
        "# Plot the raw data\n",
        "for idx, (name, style) in enumerate(zip(iris.target_names, (\"mo\", \"bs\", \"g^\"))):\n",
        "  plt.plot(X_iris[:, 0][y_iris==idx], X_iris[:, 1][y_iris==idx],\n",
        "           style, label=f\"{name}\")\n",
        "\n",
        "\n",
        "plt.xlabel(\"Petal length (cm)\")  \n",
        "plt.ylabel(\"Petal width (cm)\")\n",
        "plt.legend()\n",
        "plt.show()"
      ],
      "metadata": {
        "colab": {
          "base_uri": "https://localhost:8080/",
          "height": 287
        },
        "id": "cpHH39LtvtAa",
        "outputId": "b867b547-b759-4b33-f2d9-e478f192fa3e"
      },
      "execution_count": 331,
      "outputs": [
        {
          "output_type": "display_data",
          "data": {
            "text/plain": [
              "<Figure size 576x288 with 1 Axes>"
            ],
            "image/png": "[encoded data removed]"
          },
          "metadata": {
            "needs_background": "light"
          }
        }
      ]
    },
    {
      "cell_type": "markdown",
      "source": [
        "The tree structure and all of its info (including the ones displayed using graphviz) can be accessed directly"
      ],
      "metadata": {
        "id": "X7yv0Iz-0SVf"
      }
    },
    {
      "cell_type": "code",
      "source": [
        "tree = tree_clf.tree_"
      ],
      "metadata": {
        "id": "8uK1pcQL0eZ1"
      },
      "execution_count": 332,
      "outputs": []
    },
    {
      "cell_type": "code",
      "source": [
        "tree.node_count"
      ],
      "metadata": {
        "colab": {
          "base_uri": "https://localhost:8080/"
        },
        "id": "qqeUo2dC0i6D",
        "outputId": "679ae917-516e-4d35-f442-86b1d350f326"
      },
      "execution_count": 333,
      "outputs": [
        {
          "output_type": "execute_result",
          "data": {
            "text/plain": [
              "5"
            ]
          },
          "metadata": {},
          "execution_count": 333
        }
      ]
    },
    {
      "cell_type": "code",
      "source": [
        "tree.max_depth"
      ],
      "metadata": {
        "colab": {
          "base_uri": "https://localhost:8080/"
        },
        "id": "OigQMviA0zJa",
        "outputId": "a2db0a43-f8c7-414a-b8ba-44eaef0ae21c"
      },
      "execution_count": 334,
      "outputs": [
        {
          "output_type": "execute_result",
          "data": {
            "text/plain": [
              "2"
            ]
          },
          "metadata": {},
          "execution_count": 334
        }
      ]
    },
    {
      "cell_type": "code",
      "source": [
        "tree.max_n_classes"
      ],
      "metadata": {
        "colab": {
          "base_uri": "https://localhost:8080/"
        },
        "id": "sDmCJZ9r00sl",
        "outputId": "7d625757-75ea-408e-899c-e44609918ca3"
      },
      "execution_count": 335,
      "outputs": [
        {
          "output_type": "execute_result",
          "data": {
            "text/plain": [
              "3"
            ]
          },
          "metadata": {},
          "execution_count": 335
        }
      ]
    },
    {
      "cell_type": "code",
      "source": [
        "tree.n_leaves"
      ],
      "metadata": {
        "colab": {
          "base_uri": "https://localhost:8080/"
        },
        "id": "r2xxLfBi03YJ",
        "outputId": "d4cf932e-e7d7-46fc-c641-9a327452e512"
      },
      "execution_count": 336,
      "outputs": [
        {
          "output_type": "execute_result",
          "data": {
            "text/plain": [
              "3"
            ]
          },
          "metadata": {},
          "execution_count": 336
        }
      ]
    },
    {
      "cell_type": "code",
      "source": [
        "# Gini impurities\n",
        "tree.impurity"
      ],
      "metadata": {
        "colab": {
          "base_uri": "https://localhost:8080/"
        },
        "id": "PFxkQkAl05C9",
        "outputId": "1c937482-94df-4dde-b7ee-4ccc5fcdda80"
      },
      "execution_count": 337,
      "outputs": [
        {
          "output_type": "execute_result",
          "data": {
            "text/plain": [
              "array([0.66666667, 0.        , 0.5       , 0.16803841, 0.04253308])"
            ]
          },
          "metadata": {},
          "execution_count": 337
        }
      ]
    },
    {
      "cell_type": "code",
      "source": [
        "# root node index is 0\n",
        "print(tree.children_left[0]) # index of left child\n",
        "print(tree.children_right[0]) # index of right child"
      ],
      "metadata": {
        "colab": {
          "base_uri": "https://localhost:8080/"
        },
        "id": "jzMtQSNj094N",
        "outputId": "5655bb36-6a8f-45e2-e373-8a2ca4f73836"
      },
      "execution_count": 338,
      "outputs": [
        {
          "output_type": "stream",
          "name": "stdout",
          "text": [
            "1\n",
            "2\n"
          ]
        }
      ]
    },
    {
      "cell_type": "code",
      "source": [
        "# when the left and right children index are equal, you are at a leaf node\n",
        "tree.children_left[1], tree.children_right[1]"
      ],
      "metadata": {
        "colab": {
          "base_uri": "https://localhost:8080/"
        },
        "id": "k2l4RTYP1PeY",
        "outputId": "1fe70080-6110-4806-cdee-fd50a1332c3f"
      },
      "execution_count": 339,
      "outputs": [
        {
          "output_type": "execute_result",
          "data": {
            "text/plain": [
              "(-1, -1)"
            ]
          },
          "metadata": {},
          "execution_count": 339
        }
      ]
    },
    {
      "cell_type": "code",
      "source": [
        "# indecies of leaf nodes\n",
        "is_leaf = (tree.children_left == tree.children_right)\n",
        "np.arange(tree.node_count)[is_leaf]"
      ],
      "metadata": {
        "colab": {
          "base_uri": "https://localhost:8080/"
        },
        "id": "E43n8uwU1Xi4",
        "outputId": "afc968ad-f7a5-429e-9b4e-22fe20587582"
      },
      "execution_count": 340,
      "outputs": [
        {
          "output_type": "execute_result",
          "data": {
            "text/plain": [
              "array([1, 3, 4])"
            ]
          },
          "metadata": {},
          "execution_count": 340
        }
      ]
    },
    {
      "cell_type": "code",
      "source": [
        "# split notes use a feature to peform a split. The features are available\n",
        "tree.feature\n",
        "\n",
        "# values for leaf nodes should be ignored"
      ],
      "metadata": {
        "colab": {
          "base_uri": "https://localhost:8080/"
        },
        "id": "ESM3ttp317Sn",
        "outputId": "94ce381e-0d31-42d1-e25a-bcc292bb53d4"
      },
      "execution_count": 341,
      "outputs": [
        {
          "output_type": "execute_result",
          "data": {
            "text/plain": [
              "array([ 0, -2,  1, -2, -2], dtype=int64)"
            ]
          },
          "metadata": {},
          "execution_count": 341
        }
      ]
    },
    {
      "cell_type": "code",
      "source": [
        "# threshold used for each feature\n",
        "tree.threshold"
      ],
      "metadata": {
        "colab": {
          "base_uri": "https://localhost:8080/"
        },
        "id": "QKRJHtQ32UNO",
        "outputId": "4a4c9fdb-77be-45df-ede8-a03a497d67b7"
      },
      "execution_count": 342,
      "outputs": [
        {
          "output_type": "execute_result",
          "data": {
            "text/plain": [
              "array([ 2.44999999, -2.        ,  1.75      , -2.        , -2.        ])"
            ]
          },
          "metadata": {},
          "execution_count": 342
        }
      ]
    },
    {
      "cell_type": "code",
      "source": [
        "# values\n",
        "tree.value"
      ],
      "metadata": {
        "colab": {
          "base_uri": "https://localhost:8080/"
        },
        "id": "kQMfyIAC2YcP",
        "outputId": "ea0eb434-0c7b-435b-c0f5-c183b4803054"
      },
      "execution_count": 343,
      "outputs": [
        {
          "output_type": "execute_result",
          "data": {
            "text/plain": [
              "array([[[50., 50., 50.]],\n",
              "\n",
              "       [[50.,  0.,  0.]],\n",
              "\n",
              "       [[ 0., 50., 50.]],\n",
              "\n",
              "       [[ 0., 49.,  5.]],\n",
              "\n",
              "       [[ 0.,  1., 45.]]])"
            ]
          },
          "metadata": {},
          "execution_count": 343
        }
      ]
    },
    {
      "cell_type": "code",
      "source": [
        "tree.n_node_samples"
      ],
      "metadata": {
        "colab": {
          "base_uri": "https://localhost:8080/"
        },
        "id": "jVLyJq8y2cDG",
        "outputId": "e8c1fe49-ed1a-4bfa-d16f-76deba1252eb"
      },
      "execution_count": 344,
      "outputs": [
        {
          "output_type": "execute_result",
          "data": {
            "text/plain": [
              "array([150,  50, 100,  54,  46], dtype=int64)"
            ]
          },
          "metadata": {},
          "execution_count": 344
        }
      ]
    },
    {
      "cell_type": "code",
      "source": [
        "# you can compute the depth of each node as follows:\n",
        "\n",
        "def compute_depth(tree_clf):\n",
        "    tree = tree_clf.tree_\n",
        "    depth = np.zeros(tree.node_count)\n",
        "    stack = [(0, 0)]\n",
        "    while stack:\n",
        "        node, node_depth = stack.pop()\n",
        "        depth[node] = node_depth\n",
        "        if tree.children_left[node] != tree.children_right[node]:\n",
        "            stack.append((tree.children_left[node], node_depth + 1))\n",
        "            stack.append((tree.children_right[node], node_depth + 1))\n",
        "    return depth\n",
        "\n",
        "depth = compute_depth(tree_clf)\n",
        "depth"
      ],
      "metadata": {
        "colab": {
          "base_uri": "https://localhost:8080/"
        },
        "id": "564iha1J2ePi",
        "outputId": "1582349f-19ec-4887-f35c-2cadcd09f31d"
      },
      "execution_count": 345,
      "outputs": [
        {
          "output_type": "execute_result",
          "data": {
            "text/plain": [
              "array([0., 1., 1., 2., 2.])"
            ]
          },
          "metadata": {},
          "execution_count": 345
        }
      ]
    },
    {
      "cell_type": "code",
      "source": [
        "# get the feature and it threshold of all split nodes at depth 1\n",
        "\n",
        "print(tree.feature[(depth == 1) & (~is_leaf)])\n",
        "print(tree.threshold[(depth == 1) & (~is_leaf)])"
      ],
      "metadata": {
        "colab": {
          "base_uri": "https://localhost:8080/"
        },
        "id": "YEcK8jTm21mG",
        "outputId": "7f42a21a-aa3a-40f4-bccd-92b607164a97"
      },
      "execution_count": 346,
      "outputs": [
        {
          "output_type": "stream",
          "name": "stdout",
          "text": [
            "[1]\n",
            "[1.75]\n"
          ]
        }
      ]
    },
    {
      "cell_type": "markdown",
      "source": [
        "# The CART Training Algorithm\n",
        "\n",
        "`sklearn` uses the ***Classification and Regression Tree (CART)*** algorithm to train (or grow) trees. The logic behind the algorithm is simple, use a single feature $k$ (i.e. petal length) and a threshold $t_k$ (i.e. <= 2.45) to split the training data into two subsets. $k$ and $t_k$ are chosen to produce the purest subsets, weighted by their size. The associated cost function:\n",
        "$$\n",
        "J(k, t_k) = \\frac{m_{left}}{m}G_{left} + \\frac{m_{right}}{m}G_{right}\n",
        "$$\n",
        "Where:\n",
        "$$\n",
        "\\begin{cases}\n",
        "G_{left/right} & \\text{measures the impurity of the left/right subset} \\\\\n",
        "m_{left/right} & \\text{is the number of instances in the left/right subset}\n",
        "\\end{cases}\n",
        "$$\n",
        "\n",
        "Once a split is completed, the subsets are split using the same logic, then the sub-subsets, and so on. The splitting should stop once a maximum depth (`max_depth`) is reached or if there is no split that will reduce impurity. \n",
        "\n",
        "The CART algorithm is a _greedy_ algorithm which finds a reasonably good but not necessarily optimum solution"
      ],
      "metadata": {
        "id": "CZ0X56Vk3AVe"
      }
    },
    {
      "cell_type": "markdown",
      "source": [
        "# Regularization Hyperparameters\n",
        "\n",
        "Decision trees should be regularized because if left unconstrained, they are prone to overfitting. \n",
        "\n",
        "`DecisionTreeClassifier` the following hyperparameters:\n",
        "* `max_depth`: The maximum depth of the tree (`None` = unlimited)\n",
        "* `max_features`: The number of features to consider when looking for the best split\n",
        "* `max_leaf_nodes`: Maximum number of leaf nodes\n",
        "------------\n",
        "* `min_samples_split`: The minimum number of saples required to split a node\n",
        "* `min_samples_leaf`: Minimum number of samples required a leaf node must have to be created\n",
        "* `min_weight_fraction_leaf`: Same as `min_samples_leaf` but expressed as a fraction of the total number of weighted instances\n",
        "\n",
        "***Increasing `min_` or decreasing `max_` hyperparameters will regularize the model***"
      ],
      "metadata": {
        "id": "p3TH2glq6d6S"
      }
    },
    {
      "cell_type": "code",
      "source": [
        "# helper functions\n",
        "\n",
        "def plot_dataset(X, y, axes):\n",
        "  plt.plot(X[:, 0][y==0], X[:, 1][y==0], \"bs\")\n",
        "  plt.plot(X[:, 0][y==1], X[:, 1][y==1], \"g^\")\n",
        "  plt.axis(axes)\n",
        "  plt.grid(True)\n",
        "  plt.xlabel(\"$x_1$\")\n",
        "  plt.ylabel(\"$x_2$\", rotation=0)\n",
        "\n",
        "def plot_predictions(clf, axes):\n",
        "  x1s = np.linspace(axes[0], axes[1], 100)\n",
        "  x2s = np.linspace(axes[2], axes[3], 100)\n",
        "  x1, x2 = np.meshgrid(x1s, x2s)\n",
        "  X = np.c_[x1.ravel(), x2.ravel()]\n",
        "  y_pred = clf.predict(X).reshape(x1.shape)\n",
        "  plt.contourf(x1, x2, y_pred, cmap=plt.cm.brg, alpha=0.2)\n",
        "  plt.contour(x1, x2, y_pred, cmap=\"Greys\", alpha=0.8)\n"
      ],
      "metadata": {
        "id": "QOR5mqXoD9kp"
      },
      "execution_count": 347,
      "outputs": []
    },
    {
      "cell_type": "code",
      "source": [
        "# Make two interleaving half circles\n",
        "\n",
        "from sklearn.datasets import make_moons\n",
        "\n",
        "X_moons, y_moons = make_moons(n_samples=150, noise=0.2, random_state=42)\n",
        "\n",
        "plt.figure(figsize=(8, 5))\n",
        "plot_dataset(X_moons, y_moons, [-1.5, 2.5, -1, 1.5])\n",
        "plt.show()"
      ],
      "metadata": {
        "colab": {
          "base_uri": "https://localhost:8080/",
          "height": 342
        },
        "id": "acWCA3nF-awP",
        "outputId": "88a6e075-fb81-453e-8c3a-3f23a7e68484"
      },
      "execution_count": 348,
      "outputs": [
        {
          "output_type": "display_data",
          "data": {
            "text/plain": [
              "<Figure size 576x360 with 1 Axes>"
            ],
            "image/png": "[encoded data removed]"
          },
          "metadata": {
            "needs_background": "light"
          }
        }
      ]
    },
    {
      "cell_type": "code",
      "source": [
        "tree_clf1 = DecisionTreeClassifier(random_state=42) # no restrictions\n",
        "tree_clf1.fit(X_moons, y_moons)\n",
        "\n",
        "tree_clf2 = DecisionTreeClassifier(min_samples_leaf=5, random_state=42) \n",
        "tree_clf2.fit(X_moons, y_moons)\n"
      ],
      "metadata": {
        "colab": {
          "base_uri": "https://localhost:8080/",
          "height": 75
        },
        "id": "mlfWvBF8D5y4",
        "outputId": "7fb1fe74-113c-4ab8-ca87-66f3ba80f7e5"
      },
      "execution_count": 349,
      "outputs": [
        {
          "output_type": "execute_result",
          "data": {
            "text/plain": [
              "DecisionTreeClassifier(min_samples_leaf=5, random_state=42)"
            ],
            "text/html": [
              "<style>#sk-f2247ae4-913c-46d1-887d-7da836da7dcf {color: black;background-color: white;}#sk-f2247ae4-913c-46d1-887d-7da836da7dcf pre{padding: 0;}#sk-f2247ae4-913c-46d1-887d-7da836da7dcf div.sk-toggleable {background-color: white;}#sk-f2247ae4-913c-46d1-887d-7da836da7dcf label.sk-toggleable__label {cursor: pointer;display: block;width: 100%;margin-bottom: 0;padding: 0.3em;box-sizing: border-box;text-align: center;}#sk-f2247ae4-913c-46d1-887d-7da836da7dcf label.sk-toggleable__label-arrow:before {content: \"▸\";float: left;margin-right: 0.25em;color: #696969;}#sk-f2247ae4-913c-46d1-887d-7da836da7dcf label.sk-toggleable__label-arrow:hover:before {color: black;}#sk-f2247ae4-913c-46d1-887d-7da836da7dcf div.sk-estimator:hover label.sk-toggleable__label-arrow:before {color: black;}#sk-f2247ae4-913c-46d1-887d-7da836da7dcf div.sk-toggleable__content {max-height: 0;max-width: 0;overflow: hidden;text-align: left;background-color: #f0f8ff;}#sk-f2247ae4-913c-46d1-887d-7da836da7dcf div.sk-toggleable__content pre {margin: 0.2em;color: black;border-radius: 0.25em;background-color: #f0f8ff;}#sk-f2247ae4-913c-46d1-887d-7da836da7dcf input.sk-toggleable__control:checked~div.sk-toggleable__content {max-height: 200px;max-width: 100%;overflow: auto;}#sk-f2247ae4-913c-46d1-887d-7da836da7dcf input.sk-toggleable__control:checked~label.sk-toggleable__label-arrow:before {content: \"▾\";}#sk-f2247ae4-913c-46d1-887d-7da836da7dcf div.sk-estimator input.sk-toggleable__control:checked~label.sk-toggleable__label {background-color: #d4ebff;}#sk-f2247ae4-913c-46d1-887d-7da836da7dcf div.sk-label input.sk-toggleable__control:checked~label.sk-toggleable__label {background-color: #d4ebff;}#sk-f2247ae4-913c-46d1-887d-7da836da7dcf input.sk-hidden--visually {border: 0;clip: rect(1px 1px 1px 1px);clip: rect(1px, 1px, 1px, 1px);height: 1px;margin: -1px;overflow: hidden;padding: 0;position: absolute;width: 1px;}#sk-f2247ae4-913c-46d1-887d-7da836da7dcf div.sk-estimator {font-family: monospace;background-color: #f0f8ff;border: 1px dotted black;border-radius: 0.25em;box-sizing: border-box;margin-bottom: 0.5em;}#sk-f2247ae4-913c-46d1-887d-7da836da7dcf div.sk-estimator:hover {background-color: #d4ebff;}#sk-f2247ae4-913c-46d1-887d-7da836da7dcf div.sk-parallel-item::after {content: \"\";width: 100%;border-bottom: 1px solid gray;flex-grow: 1;}#sk-f2247ae4-913c-46d1-887d-7da836da7dcf div.sk-label:hover label.sk-toggleable__label {background-color: #d4ebff;}#sk-f2247ae4-913c-46d1-887d-7da836da7dcf div.sk-serial::before {content: \"\";position: absolute;border-left: 1px solid gray;box-sizing: border-box;top: 2em;bottom: 0;left: 50%;}#sk-f2247ae4-913c-46d1-887d-7da836da7dcf div.sk-serial {display: flex;flex-direction: column;align-items: center;background-color: white;padding-right: 0.2em;padding-left: 0.2em;}#sk-f2247ae4-913c-46d1-887d-7da836da7dcf div.sk-item {z-index: 1;}#sk-f2247ae4-913c-46d1-887d-7da836da7dcf div.sk-parallel {display: flex;align-items: stretch;justify-content: center;background-color: white;}#sk-f2247ae4-913c-46d1-887d-7da836da7dcf div.sk-parallel::before {content: \"\";position: absolute;border-left: 1px solid gray;box-sizing: border-box;top: 2em;bottom: 0;left: 50%;}#sk-f2247ae4-913c-46d1-887d-7da836da7dcf div.sk-parallel-item {display: flex;flex-direction: column;position: relative;background-color: white;}#sk-f2247ae4-913c-46d1-887d-7da836da7dcf div.sk-parallel-item:first-child::after {align-self: flex-end;width: 50%;}#sk-f2247ae4-913c-46d1-887d-7da836da7dcf div.sk-parallel-item:last-child::after {align-self: flex-start;width: 50%;}#sk-f2247ae4-913c-46d1-887d-7da836da7dcf div.sk-parallel-item:only-child::after {width: 0;}#sk-f2247ae4-913c-46d1-887d-7da836da7dcf div.sk-dashed-wrapped {border: 1px dashed gray;margin: 0 0.4em 0.5em 0.4em;box-sizing: border-box;padding-bottom: 0.4em;background-color: white;position: relative;}#sk-f2247ae4-913c-46d1-887d-7da836da7dcf div.sk-label label {font-family: monospace;font-weight: bold;background-color: white;display: inline-block;line-height: 1.2em;}#sk-f2247ae4-913c-46d1-887d-7da836da7dcf div.sk-label-container {position: relative;z-index: 2;text-align: center;}#sk-f2247ae4-913c-46d1-887d-7da836da7dcf div.sk-container {/* jupyter's `normalize.less` sets `[hidden] { display: none; }` but bootstrap.min.css set `[hidden] { display: none !important; }` so we also need the `!important` here to be able to override the default hidden behavior on the sphinx rendered scikit-learn.org. See: https://github.com/scikit-learn/scikit-learn/issues/21755 */display: inline-block !important;position: relative;}#sk-f2247ae4-913c-46d1-887d-7da836da7dcf div.sk-text-repr-fallback {display: none;}</style><div id=\"sk-f2247ae4-913c-46d1-887d-7da836da7dcf\" class=\"sk-top-container\"><div class=\"sk-text-repr-fallback\"><pre>DecisionTreeClassifier(min_samples_leaf=5, random_state=42)</pre><b>Please rerun this cell to show the HTML repr or trust the notebook.</b></div><div class=\"sk-container\" hidden><div class=\"sk-item\"><div class=\"sk-estimator sk-toggleable\"><input class=\"sk-toggleable__control sk-hidden--visually\" id=\"88fd186d-7e38-4440-bcfd-3a4aeae0ad9a\" type=\"checkbox\" checked><label for=\"88fd186d-7e38-4440-bcfd-3a4aeae0ad9a\" class=\"sk-toggleable__label sk-toggleable__label-arrow\">DecisionTreeClassifier</label><div class=\"sk-toggleable__content\"><pre>DecisionTreeClassifier(min_samples_leaf=5, random_state=42)</pre></div></div></div></div></div>"
            ]
          },
          "metadata": {},
          "execution_count": 349
        }
      ]
    },
    {
      "cell_type": "code",
      "source": [
        "fig, axes = plt.subplots(ncols=2, figsize=(15, 4), sharey=True)\n",
        "\n",
        "plt.sca(axes[0])\n",
        "plot_predictions(tree_clf1, [-1.5, 2.5, -1, 1.5])\n",
        "plot_dataset(X_moons, y_moons, [-1.5, 2.5, -1, 1.5])\n",
        "plt.title(\"No restrictions\")\n",
        "\n",
        "plt.sca(axes[1])\n",
        "plot_predictions(tree_clf2, [-1.5, 2.5, -1, 1.5])\n",
        "plot_dataset(X_moons, y_moons, [-1.5, 2.5, -1, 1.5])\n",
        "plt.title(\"min_samples_leaf = {}\".format(tree_clf2.min_samples_leaf))\n",
        "plt.ylabel(\"\")\n",
        "\n",
        "plt.show()\n"
      ],
      "metadata": {
        "colab": {
          "base_uri": "https://localhost:8080/",
          "height": 301
        },
        "id": "tCxjibLyE45I",
        "outputId": "ac08ded0-5d83-4bcc-a81a-6f7d53526831"
      },
      "execution_count": 350,
      "outputs": [
        {
          "output_type": "display_data",
          "data": {
            "text/plain": [
              "<Figure size 1080x288 with 2 Axes>"
            ],
            "image/png": "[encoded data removed]"
          },
          "metadata": {
            "needs_background": "light"
          }
        }
      ]
    },
    {
      "cell_type": "code",
      "source": [
        "# generate a moons test set (with a different random seed)\n",
        "X_moons_test, y_moons_test = make_moons(n_samples=1000, noise=0.2, random_state=43)"
      ],
      "metadata": {
        "id": "zfLz5oKfFBMv"
      },
      "execution_count": 351,
      "outputs": []
    },
    {
      "cell_type": "code",
      "source": [
        "tree_clf1.score(X_moons_test, y_moons_test)"
      ],
      "metadata": {
        "colab": {
          "base_uri": "https://localhost:8080/"
        },
        "id": "OnL2TyV6GZ2U",
        "outputId": "194d30b9-ea39-4c25-9750-2cb96b4a3635"
      },
      "execution_count": 352,
      "outputs": [
        {
          "output_type": "execute_result",
          "data": {
            "text/plain": [
              "0.898"
            ]
          },
          "metadata": {},
          "execution_count": 352
        }
      ]
    },
    {
      "cell_type": "code",
      "source": [
        "tree_clf2.score(X_moons_test, y_moons_test)"
      ],
      "metadata": {
        "colab": {
          "base_uri": "https://localhost:8080/"
        },
        "id": "eMzIE8gkEwFd",
        "outputId": "134cb1c1-c2f9-40e0-d9a2-c7bceedafde7"
      },
      "execution_count": 353,
      "outputs": [
        {
          "output_type": "execute_result",
          "data": {
            "text/plain": [
              "0.92"
            ]
          },
          "metadata": {},
          "execution_count": 353
        }
      ]
    },
    {
      "cell_type": "markdown",
      "source": [
        "Seems the regularized model performed slightly better."
      ],
      "metadata": {
        "id": "jzzD_HAgExZ4"
      }
    },
    {
      "cell_type": "markdown",
      "source": [
        "# Regression\n",
        "\n",
        "Decision Trees can be used for regression. Let's test them on a noisy quadratic dataset"
      ],
      "metadata": {
        "id": "BiQk8et7GxR8"
      }
    },
    {
      "cell_type": "code",
      "source": [
        "# generate non-linear quadratic regression data\n",
        "\n",
        "np.random.seed(42)\n",
        "X_quad = np.random.rand(200, 1) - 0.5\n",
        "y_quad = X_quad[:, 0] ** 2 + 0.025 * np.random.randn(200) \n",
        "\n",
        "plt.figure(figsize=(7, 5))\n",
        "plt.plot(X_quad, y_quad, \"bo\", markersize=4)\n",
        "plt.xlabel(\"$x_1$\")\n",
        "plt.ylabel(\"$y$\", rotation=0)\n",
        "plt.axis([-0.5, 0.5, -0.05, 0.25])\n",
        "plt.grid()\n",
        "plt.show()"
      ],
      "metadata": {
        "colab": {
          "base_uri": "https://localhost:8080/",
          "height": 342
        },
        "id": "5nNPHICJgnfI",
        "outputId": "a7f3d246-8eae-471c-b562-6a59d84471f2"
      },
      "execution_count": 354,
      "outputs": [
        {
          "output_type": "display_data",
          "data": {
            "text/plain": [
              "<Figure size 504x360 with 1 Axes>"
            ],
            "image/png": "[encoded data removed]"
          },
          "metadata": {
            "needs_background": "light"
          }
        }
      ]
    },
    {
      "cell_type": "code",
      "source": [
        "# Train a Decision tree regressor\n",
        "from sklearn.tree import DecisionTreeRegressor\n",
        "\n",
        "max_depth = 2\n",
        "#max_depth = 3\n",
        "#max_depth = None\n",
        "\n",
        "tree_reg = DecisionTreeRegressor(max_depth = max_depth, random_state=42)\n",
        "tree_reg.fit(X_quad, y_quad)\n",
        "\n",
        "export_graphviz(\n",
        "    tree_reg,\n",
        "    out_file=str(IMAGES_PATH / \"regression_tree.dot\"),\n",
        "    feature_names=[\"x1\"],\n",
        "    rounded=True,\n",
        "    filled=True\n",
        ")\n",
        "\n",
        "Source.from_file(IMAGES_PATH / \"regression_tree.dot\")"
      ],
      "metadata": {
        "colab": {
          "base_uri": "https://localhost:8080/",
          "height": 400
        },
        "id": "dFr37PaOg_x1",
        "outputId": "834f5f2c-8bd8-4eea-88c8-35b00403adde"
      },
      "execution_count": 355,
      "outputs": [
        {
          "output_type": "execute_result",
          "data": {
            "text/plain": [
              "<graphviz.files.Source at 0x7f29a07cb390>"
            ],
            "image/svg+xml": "<?xml version=\"1.0\" encoding=\"UTF-8\" standalone=\"no\"?>\n<!DOCTYPE svg PUBLIC \"-//W3C//DTD SVG 1.1//EN\"\n \"http://www.w3.org/Graphics/SVG/1.1/DTD/svg11.dtd\">\n<!-- Generated by graphviz version 2.40.1 (20161225.0304)\n -->\n<!-- Title: Tree Pages: 1 -->\n<svg width=\"706pt\" height=\"269pt\"\n viewBox=\"0.00 0.00 706.00 269.00\" xmlns=\"http://www.w3.org/2000/svg\" xmlns:xlink=\"http://www.w3.org/1999/xlink\">\n<g id=\"graph0\" class=\"graph\" transform=\"scale(1 1) rotate(0) translate(4 265)\">\n<title>Tree</title>\n<polygon fill=\"#ffffff\" stroke=\"transparent\" points=\"-4,4 -4,-265 702,-265 702,4 -4,4\"/>\n<!-- 0 -->\n<g id=\"node1\" class=\"node\">\n<title>0</title>\n<path fill=\"#f6d6be\" stroke=\"#000000\" d=\"M417,-261C417,-261 280,-261 280,-261 274,-261 268,-255 268,-249 268,-249 268,-205 268,-205 268,-199 274,-193 280,-193 280,-193 417,-193 417,-193 423,-193 429,-199 429,-205 429,-205 429,-249 429,-249 429,-255 423,-261 417,-261\"/>\n<text text-anchor=\"middle\" x=\"348.5\" y=\"-245.8\" font-family=\"Helvetica,sans-Serif\" font-size=\"14.00\" fill=\"#000000\">x1 &lt;= &#45;0.303</text>\n<text text-anchor=\"middle\" x=\"348.5\" y=\"-230.8\" font-family=\"Helvetica,sans-Serif\" font-size=\"14.00\" fill=\"#000000\">squared_error = 0.006</text>\n<text text-anchor=\"middle\" x=\"348.5\" y=\"-215.8\" font-family=\"Helvetica,sans-Serif\" font-size=\"14.00\" fill=\"#000000\">samples = 200</text>\n<text text-anchor=\"middle\" x=\"348.5\" y=\"-200.8\" font-family=\"Helvetica,sans-Serif\" font-size=\"14.00\" fill=\"#000000\">value = 0.088</text>\n</g>\n<!-- 1 -->\n<g id=\"node2\" class=\"node\">\n<title>1</title>\n<path fill=\"#eb9d65\" stroke=\"#000000\" d=\"M328,-157C328,-157 191,-157 191,-157 185,-157 179,-151 179,-145 179,-145 179,-101 179,-101 179,-95 185,-89 191,-89 191,-89 328,-89 328,-89 334,-89 340,-95 340,-101 340,-101 340,-145 340,-145 340,-151 334,-157 328,-157\"/>\n<text text-anchor=\"middle\" x=\"259.5\" y=\"-141.8\" font-family=\"Helvetica,sans-Serif\" font-size=\"14.00\" fill=\"#000000\">x1 &lt;= &#45;0.408</text>\n<text text-anchor=\"middle\" x=\"259.5\" y=\"-126.8\" font-family=\"Helvetica,sans-Serif\" font-size=\"14.00\" fill=\"#000000\">squared_error = 0.002</text>\n<text text-anchor=\"middle\" x=\"259.5\" y=\"-111.8\" font-family=\"Helvetica,sans-Serif\" font-size=\"14.00\" fill=\"#000000\">samples = 44</text>\n<text text-anchor=\"middle\" x=\"259.5\" y=\"-96.8\" font-family=\"Helvetica,sans-Serif\" font-size=\"14.00\" fill=\"#000000\">value = 0.172</text>\n</g>\n<!-- 0&#45;&gt;1 -->\n<g id=\"edge1\" class=\"edge\">\n<title>0&#45;&gt;1</title>\n<path fill=\"none\" stroke=\"#000000\" d=\"M319.3581,-192.9465C311.6745,-183.968 303.2947,-174.1758 295.3041,-164.8385\"/>\n<polygon fill=\"#000000\" stroke=\"#000000\" points=\"297.8685,-162.4521 288.7074,-157.13 292.5501,-167.0034 297.8685,-162.4521\"/>\n<text text-anchor=\"middle\" x=\"286.7702\" y=\"-178.3548\" font-family=\"Helvetica,sans-Serif\" font-size=\"14.00\" fill=\"#000000\">True</text>\n</g>\n<!-- 4 -->\n<g id=\"node5\" class=\"node\">\n<title>4</title>\n<path fill=\"#fae6d7\" stroke=\"#000000\" d=\"M507,-157C507,-157 370,-157 370,-157 364,-157 358,-151 358,-145 358,-145 358,-101 358,-101 358,-95 364,-89 370,-89 370,-89 507,-89 507,-89 513,-89 519,-95 519,-101 519,-101 519,-145 519,-145 519,-151 513,-157 507,-157\"/>\n<text text-anchor=\"middle\" x=\"438.5\" y=\"-141.8\" font-family=\"Helvetica,sans-Serif\" font-size=\"14.00\" fill=\"#000000\">x1 &lt;= 0.272</text>\n<text text-anchor=\"middle\" x=\"438.5\" y=\"-126.8\" font-family=\"Helvetica,sans-Serif\" font-size=\"14.00\" fill=\"#000000\">squared_error = 0.005</text>\n<text text-anchor=\"middle\" x=\"438.5\" y=\"-111.8\" font-family=\"Helvetica,sans-Serif\" font-size=\"14.00\" fill=\"#000000\">samples = 156</text>\n<text text-anchor=\"middle\" x=\"438.5\" y=\"-96.8\" font-family=\"Helvetica,sans-Serif\" font-size=\"14.00\" fill=\"#000000\">value = 0.065</text>\n</g>\n<!-- 0&#45;&gt;4 -->\n<g id=\"edge4\" class=\"edge\">\n<title>0&#45;&gt;4</title>\n<path fill=\"none\" stroke=\"#000000\" d=\"M377.9694,-192.9465C385.7393,-183.968 394.2132,-174.1758 402.2936,-164.8385\"/>\n<polygon fill=\"#000000\" stroke=\"#000000\" points=\"405.0672,-166.982 408.9644,-157.13 399.774,-162.4014 405.0672,-166.982\"/>\n<text text-anchor=\"middle\" x=\"410.7639\" y=\"-178.3652\" font-family=\"Helvetica,sans-Serif\" font-size=\"14.00\" fill=\"#000000\">False</text>\n</g>\n<!-- 2 -->\n<g id=\"node3\" class=\"node\">\n<title>2</title>\n<path fill=\"#e58139\" stroke=\"#000000\" d=\"M149,-53C149,-53 12,-53 12,-53 6,-53 0,-47 0,-41 0,-41 0,-12 0,-12 0,-6 6,0 12,0 12,0 149,0 149,0 155,0 161,-6 161,-12 161,-12 161,-41 161,-41 161,-47 155,-53 149,-53\"/>\n<text text-anchor=\"middle\" x=\"80.5\" y=\"-37.8\" font-family=\"Helvetica,sans-Serif\" font-size=\"14.00\" fill=\"#000000\">squared_error = 0.001</text>\n<text text-anchor=\"middle\" x=\"80.5\" y=\"-22.8\" font-family=\"Helvetica,sans-Serif\" font-size=\"14.00\" fill=\"#000000\">samples = 20</text>\n<text text-anchor=\"middle\" x=\"80.5\" y=\"-7.8\" font-family=\"Helvetica,sans-Serif\" font-size=\"14.00\" fill=\"#000000\">value = 0.213</text>\n</g>\n<!-- 1&#45;&gt;2 -->\n<g id=\"edge2\" class=\"edge\">\n<title>1&#45;&gt;2</title>\n<path fill=\"none\" stroke=\"#000000\" d=\"M196.3913,-88.9777C177.6208,-78.8584 157.1494,-67.8222 138.7063,-57.8794\"/>\n<polygon fill=\"#000000\" stroke=\"#000000\" points=\"140.295,-54.7597 129.8317,-53.095 136.9732,-60.9213 140.295,-54.7597\"/>\n</g>\n<!-- 3 -->\n<g id=\"node4\" class=\"node\">\n<title>3</title>\n<path fill=\"#f0b489\" stroke=\"#000000\" d=\"M328,-53C328,-53 191,-53 191,-53 185,-53 179,-47 179,-41 179,-41 179,-12 179,-12 179,-6 185,0 191,0 191,0 328,0 328,0 334,0 340,-6 340,-12 340,-12 340,-41 340,-41 340,-47 334,-53 328,-53\"/>\n<text text-anchor=\"middle\" x=\"259.5\" y=\"-37.8\" font-family=\"Helvetica,sans-Serif\" font-size=\"14.00\" fill=\"#000000\">squared_error = 0.001</text>\n<text text-anchor=\"middle\" x=\"259.5\" y=\"-22.8\" font-family=\"Helvetica,sans-Serif\" font-size=\"14.00\" fill=\"#000000\">samples = 24</text>\n<text text-anchor=\"middle\" x=\"259.5\" y=\"-7.8\" font-family=\"Helvetica,sans-Serif\" font-size=\"14.00\" fill=\"#000000\">value = 0.138</text>\n</g>\n<!-- 1&#45;&gt;3 -->\n<g id=\"edge3\" class=\"edge\">\n<title>1&#45;&gt;3</title>\n<path fill=\"none\" stroke=\"#000000\" d=\"M259.5,-88.9777C259.5,-80.7364 259.5,-71.887 259.5,-63.5153\"/>\n<polygon fill=\"#000000\" stroke=\"#000000\" points=\"263.0001,-63.2484 259.5,-53.2485 256.0001,-63.2485 263.0001,-63.2484\"/>\n</g>\n<!-- 5 -->\n<g id=\"node6\" class=\"node\">\n<title>5</title>\n<path fill=\"#ffffff\" stroke=\"#000000\" d=\"M507,-53C507,-53 370,-53 370,-53 364,-53 358,-47 358,-41 358,-41 358,-12 358,-12 358,-6 364,0 370,0 370,0 507,0 507,0 513,0 519,-6 519,-12 519,-12 519,-41 519,-41 519,-47 513,-53 507,-53\"/>\n<text text-anchor=\"middle\" x=\"438.5\" y=\"-37.8\" font-family=\"Helvetica,sans-Serif\" font-size=\"14.00\" fill=\"#000000\">squared_error = 0.001</text>\n<text text-anchor=\"middle\" x=\"438.5\" y=\"-22.8\" font-family=\"Helvetica,sans-Serif\" font-size=\"14.00\" fill=\"#000000\">samples = 110</text>\n<text text-anchor=\"middle\" x=\"438.5\" y=\"-7.8\" font-family=\"Helvetica,sans-Serif\" font-size=\"14.00\" fill=\"#000000\">value = 0.028</text>\n</g>\n<!-- 4&#45;&gt;5 -->\n<g id=\"edge5\" class=\"edge\">\n<title>4&#45;&gt;5</title>\n<path fill=\"none\" stroke=\"#000000\" d=\"M438.5,-88.9777C438.5,-80.7364 438.5,-71.887 438.5,-63.5153\"/>\n<polygon fill=\"#000000\" stroke=\"#000000\" points=\"442.0001,-63.2484 438.5,-53.2485 435.0001,-63.2485 442.0001,-63.2484\"/>\n</g>\n<!-- 6 -->\n<g id=\"node7\" class=\"node\">\n<title>6</title>\n<path fill=\"#edaa79\" stroke=\"#000000\" d=\"M686,-53C686,-53 549,-53 549,-53 543,-53 537,-47 537,-41 537,-41 537,-12 537,-12 537,-6 543,0 549,0 549,0 686,0 686,0 692,0 698,-6 698,-12 698,-12 698,-41 698,-41 698,-47 692,-53 686,-53\"/>\n<text text-anchor=\"middle\" x=\"617.5\" y=\"-37.8\" font-family=\"Helvetica,sans-Serif\" font-size=\"14.00\" fill=\"#000000\">squared_error = 0.002</text>\n<text text-anchor=\"middle\" x=\"617.5\" y=\"-22.8\" font-family=\"Helvetica,sans-Serif\" font-size=\"14.00\" fill=\"#000000\">samples = 46</text>\n<text text-anchor=\"middle\" x=\"617.5\" y=\"-7.8\" font-family=\"Helvetica,sans-Serif\" font-size=\"14.00\" fill=\"#000000\">value = 0.154</text>\n</g>\n<!-- 4&#45;&gt;6 -->\n<g id=\"edge6\" class=\"edge\">\n<title>4&#45;&gt;6</title>\n<path fill=\"none\" stroke=\"#000000\" d=\"M501.6087,-88.9777C520.3792,-78.8584 540.8506,-67.8222 559.2937,-57.8794\"/>\n<polygon fill=\"#000000\" stroke=\"#000000\" points=\"561.0268,-60.9213 568.1683,-53.095 557.705,-54.7597 561.0268,-60.9213\"/>\n</g>\n</g>\n</svg>\n"
          },
          "metadata": {},
          "execution_count": 355
        }
      ]
    },
    {
      "cell_type": "markdown",
      "source": [
        "## Predicting a value\n",
        "\n",
        "Similar to classification, predicting a value for a new instance is simple once you have a trained regression tree.\n",
        "\n",
        "Say you want to predict the value for $x_1 = 0.2$:\n",
        "* Root node: Tests $x_1 \\leq -0.303$ (False, move to the right child on depth 1)\n",
        "* Right split node on depth 1 test $x1 \\leq 0.272$ (True, move to the left child on depth 2)\n",
        "* Leaf node predicts a value of $0.028$ which is the average for all 110 samples in that leaf and the average MSE (for all 110 samples) is 0.001"
      ],
      "metadata": {
        "id": "fd17zGleiGEC"
      }
    },
    {
      "cell_type": "code",
      "source": [
        "# Plot the regressor\n",
        "\n",
        "def plot_regression_predictions(tree_reg, X, y, axes=[-0.5, 0.5, -0.05, 0.25]):\n",
        "  x1 = np.linspace(axes[0], axes[1], 500).reshape(-1, 1)\n",
        "  y_pred = tree_reg.predict(x1)\n",
        "  plt.plot(X, y, \"b.\")\n",
        "  plt.plot(x1, y_pred, \"r.-\", linewidth=2, label=r\"$\\hat{y}$\")\n",
        "  plt.axis(axes)\n",
        "  plt.xlabel(\"$x_1$\")\n",
        "\n",
        "plot_regression_predictions(tree_reg, X_quad, y_quad)\n",
        "plt.title(f\"max_depth={tree_reg.tree_.max_depth}\")\n",
        "plt.legend(loc=\"upper center\")\n",
        "plt.show()"
      ],
      "metadata": {
        "colab": {
          "base_uri": "https://localhost:8080/",
          "height": 301
        },
        "id": "jH7AQyqCj2mF",
        "outputId": "a452c1d8-0c25-4eb0-d349-c52afc8fcf55"
      },
      "execution_count": 356,
      "outputs": [
        {
          "output_type": "display_data",
          "data": {
            "text/plain": [
              "<Figure size 432x288 with 1 Axes>"
            ],
            "image/png": "[encoded data removed]"
          },
          "metadata": {
            "needs_background": "light"
          }
        }
      ]
    },
    {
      "cell_type": "markdown",
      "source": [
        "Each segment of the prediction line is the average of all points within its region. In other words, the training algorithms tries to create regions where the training instances are as close as possible to the predicted value."
      ],
      "metadata": {
        "id": "vYVoCUM2mskM"
      }
    },
    {
      "cell_type": "markdown",
      "source": [
        "## The CART Training Algorithm\n",
        "\n",
        "The CART for regression works in the same way it works for classification; however, instead of spliting the trainin set so the impurity is minimized, it now splits the training set so that the MSE is minimized for the different subsets. The cost function is:\n",
        "\n",
        "$$\n",
        "J(k, t_k) = \\frac{m_{left}}{m}\\text{MSE}_{left} + \\frac{m_{right}}{m}\\text{MSE}_{right}\n",
        "$$\n",
        "Where: $\n",
        "\\begin{cases}\n",
        "\\text{MSE}_{\\text{node}} = \\frac{\\sum_{i \\in \\text{node}} (\\hat{y}_{\\text{node}} - y^{(i)})^2}{m_{\\text{node}}} \\\\\n",
        "\\hat{y}_{\\text{node}} = \\frac{\\sum_{i \\in \\text{node}} y^{(i)}}{m_{\\text{node}}} \\\\\n",
        "\\end{cases}\n",
        "$"
      ],
      "metadata": {
        "id": "AMkLKOVYnsIL"
      }
    },
    {
      "cell_type": "markdown",
      "source": [
        "## Regularization Hyperparameters\n",
        "\n",
        "Similar to classification, decision trees for regression are also prone to over fitting and should be regularized."
      ],
      "metadata": {
        "id": "TOmbzQGMpC0N"
      }
    },
    {
      "cell_type": "code",
      "source": [
        "# no regularization\n",
        "tree_reg1 = DecisionTreeRegressor(random_state=42)\n",
        "tree_reg1.fit(X_quad, y_quad)\n",
        "# Some regularization\n",
        "\n",
        "min_samples_leaf = 10\n",
        "\n",
        "tree_reg2 = DecisionTreeRegressor(random_state=42, min_samples_leaf=min_samples_leaf)\n",
        "tree_reg2.fit(X_quad, y_quad)\n",
        "\n",
        "fig, axes = plt.subplots(ncols=2, figsize=(15, 4), sharey=True)\n",
        "\n",
        "plt.sca(axes[0])\n",
        "plot_regression_predictions(tree_reg1, X_quad, y_quad)\n",
        "plt.legend(loc=\"upper center\")\n",
        "plt.title(\"No regularization\")\n",
        "plt.ylabel(\"$y$\", rotation=0)\n",
        "plt.sca(axes[1])\n",
        "plot_regression_predictions(tree_reg2, X_quad, y_quad)\n",
        "plt.legend(loc=\"upper center\")\n",
        "plt.title(f\"min_ssamples_leaf={tree_reg2.min_samples_leaf}\")\n",
        "\n",
        "plt.show()"
      ],
      "metadata": {
        "colab": {
          "base_uri": "https://localhost:8080/",
          "height": 301
        },
        "id": "A-HthzxupxBn",
        "outputId": "61e3135f-c7ac-4632-cbad-1e0ba4efae0e"
      },
      "execution_count": 357,
      "outputs": [
        {
          "output_type": "display_data",
          "data": {
            "text/plain": [
              "<Figure size 1080x288 with 2 Axes>"
            ],
            "image/png": "[encoded data removed]"
          },
          "metadata": {
            "needs_background": "light"
          }
        }
      ]
    },
    {
      "cell_type": "markdown",
      "source": [
        "The left figure is obviously overfitting the training data; whereas, the right figure shows that setting the minimum number of instances in a leaf to 10 (moderate regularization) produces a more reasonable model."
      ],
      "metadata": {
        "id": "WQ6aFfm7K-Ln"
      }
    },
    {
      "cell_type": "markdown",
      "source": [
        "# Sensitivity to Axis Orientation\n",
        "\n",
        "Decision trees generate orthogonal decision boundaries (all perpendicular to an axis). This makes them senesitive to data orientation. \n",
        "\n",
        "The following shows an example of a dataset and a rotated version of it both fitted with trees of the same hyperparameters. The tree model fitted with the rotated data can sepearte all points successfully; however, the decision boundary is more convoluted and will probably not generalize as well."
      ],
      "metadata": {
        "id": "1dHpwxrKMI3D"
      }
    },
    {
      "cell_type": "code",
      "source": [
        "# Generate some linearly separable data\n",
        "np.random.seed(6)\n",
        "X_square = np.random.rand(100, 2) - 0.5\n",
        "y_square = (X_square[:, 0] > 0).astype(np.int64)\n",
        "\n",
        "# Generate a rotated version of the same data \n",
        "angle = np.pi / 4 # rotation angle = 45 degrees\n",
        "rotation_matrix = np.array([\n",
        "    [np.cos(angle), -np.sin(angle)],\n",
        "    [np.sin(angle), np.cos(angle)]\n",
        "])\n",
        "\n",
        "X_rotated_square = X_square.dot(rotation_matrix)\n",
        "\n",
        "# Fit classification trees\n",
        "tree_clf_square = DecisionTreeClassifier(random_state=42)\n",
        "tree_clf_square.fit(X_square, y_square)\n",
        "\n",
        "tree_clf_rotate_square = DecisionTreeClassifier(random_state=42)\n",
        "tree_clf_rotate_square.fit(X_rotated_square, y_square)\n",
        "\n",
        "# Plot the decision boundaries\n",
        "fig, axes = plt.subplots(ncols=2, figsize=(15, 4), sharey=True)\n",
        "\n",
        "plt.sca(axes[0])\n",
        "plot_predictions(tree_clf_square, [-0.7, 0.7, -0.7, 0.7])\n",
        "plot_dataset(X_square, y_square, [-0.7, 0.7, -0.7, 0.7])\n",
        "plt.grid(False)\n",
        "\n",
        "plt.sca(axes[1])\n",
        "plot_predictions(tree_clf_rotate_square, [-0.7, 0.7, -0.7, 0.7])\n",
        "plot_dataset(X_rotated_square, y_square, [-0.7, 0.7, -0.7, 0.7])\n",
        "plt.grid(False)\n",
        "\n",
        "plt.show()"
      ],
      "metadata": {
        "colab": {
          "base_uri": "https://localhost:8080/",
          "height": 284
        },
        "id": "CvpGtxeCNYet",
        "outputId": "b12cb717-7a53-4398-81b0-5a117dab1c04"
      },
      "execution_count": 358,
      "outputs": [
        {
          "output_type": "display_data",
          "data": {
            "text/plain": [
              "<Figure size 1080x288 with 2 Axes>"
            ],
            "image/png": "[encoded data removed]"
          },
          "metadata": {
            "needs_background": "light"
          }
        }
      ]
    },
    {
      "cell_type": "markdown",
      "source": [
        "One approach to reduce this limitation is to scale the data then transform it using principal component analysis (PCA). PCA decorrelate the data and transform it to a space where the eigen vector are the axes. \n",
        "\n",
        "**NOTE**: this approach might make things easier for trees (but not always)"
      ],
      "metadata": {
        "id": "pQL8wdZCOlki"
      }
    },
    {
      "cell_type": "code",
      "source": [
        "# Display pipelines\n",
        "from sklearn import set_config\n",
        "set_config(display=\"diagram\")"
      ],
      "metadata": {
        "id": "q1_r2kHs1C70"
      },
      "execution_count": 359,
      "outputs": []
    },
    {
      "cell_type": "code",
      "source": [
        "from sklearn.pipeline import make_pipeline\n",
        "from sklearn.preprocessing import StandardScaler\n",
        "from sklearn.decomposition import PCA\n",
        "\n",
        "pca_pipeline = make_pipeline(\n",
        "    StandardScaler(),\n",
        "    PCA()\n",
        ")\n",
        "\n",
        "X_rotated_square_pca = pca_pipeline.fit_transform(X_rotated_square)\n",
        "\n",
        "pca_pipeline #to display the pca pipeline\n"
      ],
      "metadata": {
        "colab": {
          "base_uri": "https://localhost:8080/",
          "height": 126
        },
        "id": "U2Czg6fxzOwZ",
        "outputId": "d40c8420-0b54-4e69-cc25-d1bffbae237d"
      },
      "execution_count": 360,
      "outputs": [
        {
          "output_type": "execute_result",
          "data": {
            "text/plain": [
              "Pipeline(steps=[('standardscaler', StandardScaler()), ('pca', PCA())])"
            ],
            "text/html": [
              "<style>#sk-0222a602-1039-49ec-ac8b-5d76fd3e4ebf {color: black;background-color: white;}#sk-0222a602-1039-49ec-ac8b-5d76fd3e4ebf pre{padding: 0;}#sk-0222a602-1039-49ec-ac8b-5d76fd3e4ebf div.sk-toggleable {background-color: white;}#sk-0222a602-1039-49ec-ac8b-5d76fd3e4ebf label.sk-toggleable__label {cursor: pointer;display: block;width: 100%;margin-bottom: 0;padding: 0.3em;box-sizing: border-box;text-align: center;}#sk-0222a602-1039-49ec-ac8b-5d76fd3e4ebf label.sk-toggleable__label-arrow:before {content: \"▸\";float: left;margin-right: 0.25em;color: #696969;}#sk-0222a602-1039-49ec-ac8b-5d76fd3e4ebf label.sk-toggleable__label-arrow:hover:before {color: black;}#sk-0222a602-1039-49ec-ac8b-5d76fd3e4ebf div.sk-estimator:hover label.sk-toggleable__label-arrow:before {color: black;}#sk-0222a602-1039-49ec-ac8b-5d76fd3e4ebf div.sk-toggleable__content {max-height: 0;max-width: 0;overflow: hidden;text-align: left;background-color: #f0f8ff;}#sk-0222a602-1039-49ec-ac8b-5d76fd3e4ebf div.sk-toggleable__content pre {margin: 0.2em;color: black;border-radius: 0.25em;background-color: #f0f8ff;}#sk-0222a602-1039-49ec-ac8b-5d76fd3e4ebf input.sk-toggleable__control:checked~div.sk-toggleable__content {max-height: 200px;max-width: 100%;overflow: auto;}#sk-0222a602-1039-49ec-ac8b-5d76fd3e4ebf input.sk-toggleable__control:checked~label.sk-toggleable__label-arrow:before {content: \"▾\";}#sk-0222a602-1039-49ec-ac8b-5d76fd3e4ebf div.sk-estimator input.sk-toggleable__control:checked~label.sk-toggleable__label {background-color: #d4ebff;}#sk-0222a602-1039-49ec-ac8b-5d76fd3e4ebf div.sk-label input.sk-toggleable__control:checked~label.sk-toggleable__label {background-color: #d4ebff;}#sk-0222a602-1039-49ec-ac8b-5d76fd3e4ebf input.sk-hidden--visually {border: 0;clip: rect(1px 1px 1px 1px);clip: rect(1px, 1px, 1px, 1px);height: 1px;margin: -1px;overflow: hidden;padding: 0;position: absolute;width: 1px;}#sk-0222a602-1039-49ec-ac8b-5d76fd3e4ebf div.sk-estimator {font-family: monospace;background-color: #f0f8ff;border: 1px dotted black;border-radius: 0.25em;box-sizing: border-box;margin-bottom: 0.5em;}#sk-0222a602-1039-49ec-ac8b-5d76fd3e4ebf div.sk-estimator:hover {background-color: #d4ebff;}#sk-0222a602-1039-49ec-ac8b-5d76fd3e4ebf div.sk-parallel-item::after {content: \"\";width: 100%;border-bottom: 1px solid gray;flex-grow: 1;}#sk-0222a602-1039-49ec-ac8b-5d76fd3e4ebf div.sk-label:hover label.sk-toggleable__label {background-color: #d4ebff;}#sk-0222a602-1039-49ec-ac8b-5d76fd3e4ebf div.sk-serial::before {content: \"\";position: absolute;border-left: 1px solid gray;box-sizing: border-box;top: 2em;bottom: 0;left: 50%;}#sk-0222a602-1039-49ec-ac8b-5d76fd3e4ebf div.sk-serial {display: flex;flex-direction: column;align-items: center;background-color: white;padding-right: 0.2em;padding-left: 0.2em;}#sk-0222a602-1039-49ec-ac8b-5d76fd3e4ebf div.sk-item {z-index: 1;}#sk-0222a602-1039-49ec-ac8b-5d76fd3e4ebf div.sk-parallel {display: flex;align-items: stretch;justify-content: center;background-color: white;}#sk-0222a602-1039-49ec-ac8b-5d76fd3e4ebf div.sk-parallel::before {content: \"\";position: absolute;border-left: 1px solid gray;box-sizing: border-box;top: 2em;bottom: 0;left: 50%;}#sk-0222a602-1039-49ec-ac8b-5d76fd3e4ebf div.sk-parallel-item {display: flex;flex-direction: column;position: relative;background-color: white;}#sk-0222a602-1039-49ec-ac8b-5d76fd3e4ebf div.sk-parallel-item:first-child::after {align-self: flex-end;width: 50%;}#sk-0222a602-1039-49ec-ac8b-5d76fd3e4ebf div.sk-parallel-item:last-child::after {align-self: flex-start;width: 50%;}#sk-0222a602-1039-49ec-ac8b-5d76fd3e4ebf div.sk-parallel-item:only-child::after {width: 0;}#sk-0222a602-1039-49ec-ac8b-5d76fd3e4ebf div.sk-dashed-wrapped {border: 1px dashed gray;margin: 0 0.4em 0.5em 0.4em;box-sizing: border-box;padding-bottom: 0.4em;background-color: white;position: relative;}#sk-0222a602-1039-49ec-ac8b-5d76fd3e4ebf div.sk-label label {font-family: monospace;font-weight: bold;background-color: white;display: inline-block;line-height: 1.2em;}#sk-0222a602-1039-49ec-ac8b-5d76fd3e4ebf div.sk-label-container {position: relative;z-index: 2;text-align: center;}#sk-0222a602-1039-49ec-ac8b-5d76fd3e4ebf div.sk-container {/* jupyter's `normalize.less` sets `[hidden] { display: none; }` but bootstrap.min.css set `[hidden] { display: none !important; }` so we also need the `!important` here to be able to override the default hidden behavior on the sphinx rendered scikit-learn.org. See: https://github.com/scikit-learn/scikit-learn/issues/21755 */display: inline-block !important;position: relative;}#sk-0222a602-1039-49ec-ac8b-5d76fd3e4ebf div.sk-text-repr-fallback {display: none;}</style><div id=\"sk-0222a602-1039-49ec-ac8b-5d76fd3e4ebf\" class=\"sk-top-container\"><div class=\"sk-text-repr-fallback\"><pre>Pipeline(steps=[(&#x27;standardscaler&#x27;, StandardScaler()), (&#x27;pca&#x27;, PCA())])</pre><b>Please rerun this cell to show the HTML repr or trust the notebook.</b></div><div class=\"sk-container\" hidden><div class=\"sk-item sk-dashed-wrapped\"><div class=\"sk-label-container\"><div class=\"sk-label sk-toggleable\"><input class=\"sk-toggleable__control sk-hidden--visually\" id=\"0a1a2c1d-946f-4878-94bc-27946de9d3e0\" type=\"checkbox\" ><label for=\"0a1a2c1d-946f-4878-94bc-27946de9d3e0\" class=\"sk-toggleable__label sk-toggleable__label-arrow\">Pipeline</label><div class=\"sk-toggleable__content\"><pre>Pipeline(steps=[(&#x27;standardscaler&#x27;, StandardScaler()), (&#x27;pca&#x27;, PCA())])</pre></div></div></div><div class=\"sk-serial\"><div class=\"sk-item\"><div class=\"sk-estimator sk-toggleable\"><input class=\"sk-toggleable__control sk-hidden--visually\" id=\"f180f457-fd2f-423c-8f78-2daf690681f9\" type=\"checkbox\" ><label for=\"f180f457-fd2f-423c-8f78-2daf690681f9\" class=\"sk-toggleable__label sk-toggleable__label-arrow\">StandardScaler</label><div class=\"sk-toggleable__content\"><pre>StandardScaler()</pre></div></div></div><div class=\"sk-item\"><div class=\"sk-estimator sk-toggleable\"><input class=\"sk-toggleable__control sk-hidden--visually\" id=\"a8fe1348-e77e-4bc6-9650-037fd1f45084\" type=\"checkbox\" ><label for=\"a8fe1348-e77e-4bc6-9650-037fd1f45084\" class=\"sk-toggleable__label sk-toggleable__label-arrow\">PCA</label><div class=\"sk-toggleable__content\"><pre>PCA()</pre></div></div></div></div></div></div></div>"
            ]
          },
          "metadata": {},
          "execution_count": 360
        }
      ]
    },
    {
      "cell_type": "code",
      "source": [
        "# Fit classification trees\n",
        "tree_clf_pca = DecisionTreeClassifier(random_state=42)\n",
        "tree_clf_pca.fit(X_rotated_square_pca, y_square)\n",
        "\n",
        "# Plot the decision boundary\n",
        "plt.figure(figsize=(7, 4))\n",
        "plot_predictions(tree_clf_pca, [-2, 2, -2, 2])\n",
        "plot_dataset(X_rotated_square_pca, y_square, [-2, 2, -2, 2])\n",
        "plt.grid(False)\n",
        "plt.xlabel(\"$z_1$\")\n",
        "plt.ylabel(\"$z_2$\", rotation=0)\n",
        "\n",
        "\n",
        "plt.show()"
      ],
      "metadata": {
        "colab": {
          "base_uri": "https://localhost:8080/",
          "height": 288
        },
        "id": "DS6YzF5E1O_f",
        "outputId": "2f657829-85d6-4b5f-b531-c48bf7a912c7"
      },
      "execution_count": 361,
      "outputs": [
        {
          "output_type": "display_data",
          "data": {
            "text/plain": [
              "<Figure size 504x288 with 1 Axes>"
            ],
            "image/png": "[encoded data removed]"
          },
          "metadata": {
            "needs_background": "light"
          }
        }
      ]
    },
    {
      "cell_type": "markdown",
      "source": [
        "The decision boundary is much simpler after scaling and PCA transformation"
      ],
      "metadata": {
        "id": "NkJ3Sf4G0Ohs"
      }
    },
    {
      "cell_type": "code",
      "source": [
        "# Scale/PCA the iris dataset\n",
        "\n",
        "X_iris_pca = pca_pipeline.fit_transform(X_iris)\n",
        "tree_clf_iris_pca = DecisionTreeClassifier(random_state=42, max_depth=2)\n",
        "tree_clf_iris_pca.fit(X_iris_pca, y_iris)\n",
        "\n",
        "# Plot the decision boundary\n",
        "plt.figure(figsize=(8, 4))\n",
        "axes = [-2.2, 2.4, -0.6, 0.7]\n",
        "plot_predictions(tree_clf_iris_pca, axes)\n",
        "for idx, (name, style) in enumerate(zip(iris.target_names, (\"yo\", \"bs\", \"g^\"))):\n",
        "    plt.plot(X_iris_pca[:, 0][y_iris == idx],\n",
        "             X_iris_pca[:, 1][y_iris == idx],\n",
        "             style, label=f\"{name}\")\n",
        "plt.xlabel(\"$z_1$\")  \n",
        "plt.ylabel(\"$z_2$\", rotation=2)\n",
        "plt.legend(loc=\"upper center\")\n",
        "plt.show()\n",
        "\n"
      ],
      "metadata": {
        "colab": {
          "base_uri": "https://localhost:8080/",
          "height": 284
        },
        "id": "bJ8j8O5F0UfT",
        "outputId": "84bd7392-e13e-4e38-98dc-76ad5532cd11"
      },
      "execution_count": 362,
      "outputs": [
        {
          "output_type": "display_data",
          "data": {
            "text/plain": [
              "<Figure size 576x288 with 1 Axes>"
            ],
            "image/png": "[encoded data removed]"
          },
          "metadata": {
            "needs_background": "light"
          }
        }
      ]
    }
  ]
}