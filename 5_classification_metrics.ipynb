{
  "nbformat": 4,
  "nbformat_minor": 0,
  "metadata": {
    "colab": {
      "provenance": [],
      "collapsed_sections": [],
      "toc_visible": true,
      "authorship_tag": "ABX9TyOIbhSvKIjNi7WzbTazlDxt",
      "include_colab_link": true
    },
    "kernelspec": {
      "name": "python3",
      "display_name": "Python 3"
    },
    "language_info": {
      "name": "python"
    }
  },
  "cells": [
    {
      "cell_type": "markdown",
      "metadata": {
        "id": "view-in-github",
        "colab_type": "text"
      },
      "source": [
        "<a href=\"https://colab.research.google.com/github/aseddin/F22_ECE4715/blob/main/5_classification_metrics.ipynb\" target=\"_parent\"><img src=\"https://colab.research.google.com/assets/colab-badge.svg\" alt=\"Open In Colab\"/></a>"
      ]
    },
    {
      "cell_type": "markdown",
      "source": [
        "# Classification metrics"
      ],
      "metadata": {
        "id": "wmHHk6xeU9mc"
      }
    },
    {
      "cell_type": "code",
      "execution_count": 1,
      "metadata": {
        "id": "HUtpcx7bLAeY"
      },
      "outputs": [],
      "source": [
        "# code to set things up\n",
        "\n",
        "# importing common libraries\n",
        "import numpy as np\n",
        "import pandas as pd\n",
        "\n",
        "# Things related to figures and plots\n",
        "# make figures look nicer\n",
        "import matplotlib.pyplot as plt\n",
        "\n",
        "plt.rc('font', size=14)\n",
        "plt.rc('axes', labelsize=14, titlesize=14)\n",
        "plt.rc('legend', fontsize=14)\n",
        "plt.rc('xtick', labelsize=10)\n",
        "plt.rc('ytick', labelsize=10)\n",
        "\n",
        "# figure saving function\n",
        "from pathlib import Path\n",
        "IMAGES_PATH = Path() / \"images\" / \"classification_metrics\"\n",
        "IMAGES_PATH.mkdir(parents=True, exist_ok=True)\n",
        "\n",
        "def save_fig(fig_id, tight_layout=True, fig_extension=\"png\", resolution=300):\n",
        "  path = IMAGES_PATH / f\"{fig_id}.{fig_extension}\"\n",
        "  if tight_layout:\n",
        "    plt.tight_layout()\n",
        "  plt.savefig(path, format=fig_extension, dpi=resolution)"
      ]
    },
    {
      "cell_type": "markdown",
      "source": [
        "# Load the Iris plants datasest"
      ],
      "metadata": {
        "id": "1pXdhEx3U9Hz"
      }
    },
    {
      "cell_type": "code",
      "source": [
        "from sklearn.datasets import load_iris\n",
        "from sklearn.model_selection import train_test_split\n",
        "\n",
        "iris = load_iris(as_frame=False) \n",
        "\n",
        "# split the data into train/test datasets\n",
        "X_train, X_test, y_train, y_test = train_test_split(\n",
        "    iris.data, iris.target, test_size=0.2, random_state=42, stratify=iris.target\n",
        ")"
      ],
      "metadata": {
        "id": "7Bvv0rTAVMGV"
      },
      "execution_count": 2,
      "outputs": []
    },
    {
      "cell_type": "code",
      "source": [
        "iris.target_names"
      ],
      "metadata": {
        "colab": {
          "base_uri": "https://localhost:8080/"
        },
        "id": "MWSafiHuVRrz",
        "outputId": "d985c7e5-fded-4942-9e94-a0f1df3b23d9"
      },
      "execution_count": 3,
      "outputs": [
        {
          "output_type": "execute_result",
          "data": {
            "text/plain": [
              "array(['setosa', 'versicolor', 'virginica'], dtype='<U10')"
            ]
          },
          "metadata": {},
          "execution_count": 3
        }
      ]
    },
    {
      "cell_type": "code",
      "source": [
        "np.unique(y_train)"
      ],
      "metadata": {
        "colab": {
          "base_uri": "https://localhost:8080/"
        },
        "id": "K9pBVYiNV3bJ",
        "outputId": "c4117fa4-af2c-48d9-e5c4-a961d8aec2f0"
      },
      "execution_count": 4,
      "outputs": [
        {
          "output_type": "execute_result",
          "data": {
            "text/plain": [
              "array([0, 1, 2])"
            ]
          },
          "metadata": {},
          "execution_count": 4
        }
      ]
    },
    {
      "cell_type": "code",
      "source": [
        "for c in np.unique(y_train):\n",
        "  plt.scatter(X_train[:, 2][y_train == c], \n",
        "              X_train[:, 3][y_train == c], \n",
        "              label=iris.target_names[c])\n",
        "plt.xlabel(\"petal length\")\n",
        "plt.ylabel(\"petal width\")\n",
        "plt.legend()\n",
        "plt.show()"
      ],
      "metadata": {
        "colab": {
          "base_uri": "https://localhost:8080/",
          "height": 283
        },
        "id": "3pMxz1aWV7PF",
        "outputId": "e4bbee28-c4a2-46a5-c869-b1137fa330e2"
      },
      "execution_count": 5,
      "outputs": [
        {
          "output_type": "display_data",
          "data": {
            "text/plain": [
              "<Figure size 432x288 with 1 Axes>"
            ],
            "image/png": "[encoded data removed]"
          },
          "metadata": {
            "needs_background": "light"
          }
        }
      ]
    },
    {
      "cell_type": "markdown",
      "source": [
        "## Binary Classifier\n",
        "Let's simplify the problem by only identifying one of the classes \"virginica\". In other words, we make it a binary classification problem where we are trying to classify an input as belonging to \"virginica\" or not "
      ],
      "metadata": {
        "id": "bdL5GUHIXZpZ"
      }
    },
    {
      "cell_type": "code",
      "source": [
        "y_train_virginica = (y_train == 2).astype(np.int8) # returns 0s and 1s not True/False\n",
        "y_test_virginica = (y_test == 2).astype(np.int8)"
      ],
      "metadata": {
        "id": "p7VFsalFZ1pn"
      },
      "execution_count": 6,
      "outputs": []
    },
    {
      "cell_type": "code",
      "source": [
        "virginica_target_names = [\"not virginica\", \"virginica\"]\n",
        "for c in np.unique(y_train_virginica):\n",
        "  plt.scatter(X_train[:, 2][y_train_virginica == c], \n",
        "              X_train[:, 3][y_train_virginica == c], \n",
        "              label=virginica_target_names[c])\n",
        "plt.xlabel(\"petal length\")\n",
        "plt.ylabel(\"petal width\")\n",
        "plt.legend()\n",
        "plt.show()"
      ],
      "metadata": {
        "colab": {
          "base_uri": "https://localhost:8080/",
          "height": 283
        },
        "id": "aMXYpzMUadij",
        "outputId": "1c230b15-298c-4d13-f32a-20dbe2c8da03"
      },
      "execution_count": 7,
      "outputs": [
        {
          "output_type": "display_data",
          "data": {
            "text/plain": [
              "<Figure size 432x288 with 1 Axes>"
            ],
            "image/png": "[encoded data removed]"
          },
          "metadata": {
            "needs_background": "light"
          }
        }
      ]
    },
    {
      "cell_type": "code",
      "source": [
        "# train a classifier\n",
        "from sklearn.discriminant_analysis import QuadraticDiscriminantAnalysis\n",
        "\n",
        "qda_clf = QuadraticDiscriminantAnalysis()\n",
        "qda_clf.fit(X_train, y_train_virginica)\n",
        "qda_clf.score(X_train, y_train_virginica)"
      ],
      "metadata": {
        "colab": {
          "base_uri": "https://localhost:8080/"
        },
        "id": "S6VCAG1YbiiH",
        "outputId": "d11a6c24-d942-45a8-8bb4-dab67a17527a"
      },
      "execution_count": 8,
      "outputs": [
        {
          "output_type": "execute_result",
          "data": {
            "text/plain": [
              "0.9583333333333334"
            ]
          },
          "metadata": {},
          "execution_count": 8
        }
      ]
    },
    {
      "cell_type": "code",
      "source": [
        "i = 119\n",
        "print(\"predicted:\", qda_clf.predict([X_train[i, :]]))\n",
        "print(\"true label:\", y_train_virginica[i])"
      ],
      "metadata": {
        "colab": {
          "base_uri": "https://localhost:8080/"
        },
        "id": "oAuzQtUbc8CH",
        "outputId": "06072d2e-4659-4718-c440-fb98d8453a4c"
      },
      "execution_count": 9,
      "outputs": [
        {
          "output_type": "stream",
          "name": "stdout",
          "text": [
            "predicted: [0]\n",
            "true label: 0\n"
          ]
        }
      ]
    },
    {
      "cell_type": "markdown",
      "source": [
        "## Performance Measures\n",
        "\n",
        "In `sklearn` estimators have a `score` method that provides a default evaluation criterion for the problem they solve. \n",
        "\n",
        "According to the [QuadraticDiscriminantAnalysis](https://scikit-learn.org/stable/modules/generated/sklearn.discriminant_analysis.QuadraticDiscriminantAnalysis.html#sklearn.discriminant_analysis.QuadraticDiscriminantAnalysis) documentation page, `score(X, y[, sample_weight])` \"Return the mean accuracy on the given test data and labels.\" "
      ],
      "metadata": {
        "id": "fmSDPrHogmpy"
      }
    },
    {
      "cell_type": "markdown",
      "source": [
        "### Accuracy"
      ],
      "metadata": {
        "id": "wxxs5s4VqK5L"
      }
    },
    {
      "cell_type": "code",
      "source": [
        "qda_clf.score(X_train, y_train_virginica)"
      ],
      "metadata": {
        "colab": {
          "base_uri": "https://localhost:8080/"
        },
        "id": "f7f-PV8xhSpN",
        "outputId": "8ef4e3dc-eca9-4e6d-d73a-7a5f4ea9d845"
      },
      "execution_count": 10,
      "outputs": [
        {
          "output_type": "execute_result",
          "data": {
            "text/plain": [
              "0.9583333333333334"
            ]
          },
          "metadata": {},
          "execution_count": 10
        }
      ]
    },
    {
      "cell_type": "markdown",
      "source": [
        "A better way to evaluate a model is to use cross-validation. By default, the `cross_val_score` uses the estimator's default scorer. \n",
        "\n",
        "For the QDA classifier, it will be the mean accuracy"
      ],
      "metadata": {
        "id": "swqBip3DleIp"
      }
    },
    {
      "cell_type": "code",
      "source": [
        "from sklearn.model_selection import cross_val_score\n",
        "scores = cross_val_score(qda_clf, X_train, y_train_virginica, cv=4)\n",
        "scores"
      ],
      "metadata": {
        "id": "KA4lWDWZk1XD",
        "colab": {
          "base_uri": "https://localhost:8080/"
        },
        "outputId": "8093fe3b-9362-4b81-c180-9bf2113fad72"
      },
      "execution_count": 11,
      "outputs": [
        {
          "output_type": "execute_result",
          "data": {
            "text/plain": [
              "array([0.96666667, 0.96666667, 0.93333333, 0.96666667])"
            ]
          },
          "metadata": {},
          "execution_count": 11
        }
      ]
    },
    {
      "cell_type": "code",
      "source": [
        "scores.mean()"
      ],
      "metadata": {
        "colab": {
          "base_uri": "https://localhost:8080/"
        },
        "id": "Of3T16aFPwwY",
        "outputId": "9c597a27-47b2-4c29-fba6-f29e14ba692e"
      },
      "execution_count": 12,
      "outputs": [
        {
          "output_type": "execute_result",
          "data": {
            "text/plain": [
              "0.9583333333333334"
            ]
          },
          "metadata": {},
          "execution_count": 12
        }
      ]
    },
    {
      "cell_type": "markdown",
      "source": [
        "The accuracy numbers look good. \n",
        "\n",
        "But before we continue. Let's train a classifier that always select the most frequent class in the training set (in our case not virginica). In other words, it always select one of the classes regardless of the input"
      ],
      "metadata": {
        "id": "PyA0FQmzoX_R"
      }
    },
    {
      "cell_type": "code",
      "source": [
        "from sklearn.dummy import DummyClassifier\n",
        "\n",
        "dummy_clf = DummyClassifier()\n",
        "dummy_clf.fit(X_train, y_train_virginica)\n"
      ],
      "metadata": {
        "colab": {
          "base_uri": "https://localhost:8080/"
        },
        "id": "0TRwQM24lQnv",
        "outputId": "64d872b8-b3b9-44b4-d1ca-a5672fa093aa"
      },
      "execution_count": 13,
      "outputs": [
        {
          "output_type": "execute_result",
          "data": {
            "text/plain": [
              "DummyClassifier()"
            ]
          },
          "metadata": {},
          "execution_count": 13
        }
      ]
    },
    {
      "cell_type": "code",
      "source": [
        "# Is there any virginica flowers?\n",
        "print(any(dummy_clf.predict(X_train))) "
      ],
      "metadata": {
        "colab": {
          "base_uri": "https://localhost:8080/"
        },
        "id": "DX5G015VnkSs",
        "outputId": "fd9dd6e7-0731-41b8-9a84-1663909bfac6"
      },
      "execution_count": 14,
      "outputs": [
        {
          "output_type": "stream",
          "name": "stdout",
          "text": [
            "False\n"
          ]
        }
      ]
    },
    {
      "cell_type": "code",
      "source": [
        "cross_val_score(dummy_clf, X_train, y_train_virginica, cv=4)"
      ],
      "metadata": {
        "colab": {
          "base_uri": "https://localhost:8080/"
        },
        "id": "5TaLfuOKn1Mp",
        "outputId": "2ac01fab-8512-4d59-fd4f-389bb1b1eaa4"
      },
      "execution_count": 15,
      "outputs": [
        {
          "output_type": "execute_result",
          "data": {
            "text/plain": [
              "array([0.66666667, 0.66666667, 0.66666667, 0.66666667])"
            ]
          },
          "metadata": {},
          "execution_count": 15
        }
      ]
    },
    {
      "cell_type": "markdown",
      "source": [
        "66% accuracy is simply because 2/3 of the training set were not virginica and the dummy classifier correctly classified all of them by always guessing that an input is not virginica.\n",
        "\n",
        "This shows why we might want to use metrics other than accuracy when measuring classifiers performance. This is especially true when you have unbalanced datasets (i.e. some classes are much more frequent than others)"
      ],
      "metadata": {
        "id": "mlG1aUSYn7GV"
      }
    },
    {
      "cell_type": "markdown",
      "source": [
        "### Confusion Matrix"
      ],
      "metadata": {
        "id": "J6gjiKONpNng"
      }
    },
    {
      "cell_type": "markdown",
      "source": [
        "To construct a confusion matrix, we need a set of predictions to compare to actual targets. Preferably, the predictions should be for instances not seen during training. One way to get such \"out-of-sample\" or \"clean\" predictions without using the test set is to use `cross_val_predict` which is similar to `cross_val_score` but instead of computing the scores over K-fold cross-validation it yields \"clean\" predictions for each instance in the training set"
      ],
      "metadata": {
        "id": "b70NLGLyUQxb"
      }
    },
    {
      "cell_type": "code",
      "source": [
        "from sklearn.model_selection import cross_val_predict\n",
        "\n",
        "y_train_virginica_pred = cross_val_predict(qda_clf, X_train, y_train_virginica,\n",
        "                                           cv=4)"
      ],
      "metadata": {
        "id": "NeyRci5XqUJX"
      },
      "execution_count": 16,
      "outputs": []
    },
    {
      "cell_type": "code",
      "source": [
        "from sklearn.metrics import confusion_matrix\n",
        "\n",
        "cm = confusion_matrix(y_train_virginica, y_train_virginica_pred)\n",
        "cm"
      ],
      "metadata": {
        "colab": {
          "base_uri": "https://localhost:8080/"
        },
        "id": "CqQwAR_fPZMF",
        "outputId": "76ff95c2-9234-4252-f300-df6f7a477c0b"
      },
      "execution_count": 17,
      "outputs": [
        {
          "output_type": "execute_result",
          "data": {
            "text/plain": [
              "array([[78,  2],\n",
              "       [ 3, 37]])"
            ]
          },
          "metadata": {},
          "execution_count": 17
        }
      ]
    },
    {
      "cell_type": "code",
      "source": [
        "# perfect classifier\n",
        "confusion_matrix(y_train_virginica, y_train_virginica)"
      ],
      "metadata": {
        "colab": {
          "base_uri": "https://localhost:8080/"
        },
        "id": "0QZ6HCcgPkO_",
        "outputId": "eab71043-4a9a-4b85-ef3a-ba5b0e2f0a6f"
      },
      "execution_count": 18,
      "outputs": [
        {
          "output_type": "execute_result",
          "data": {
            "text/plain": [
              "array([[80,  0],\n",
              "       [ 0, 40]])"
            ]
          },
          "metadata": {},
          "execution_count": 18
        }
      ]
    },
    {
      "cell_type": "code",
      "source": [
        "TN = cm[0, 0] # True Negative\n",
        "FP = cm[0, 1] # False Positive\n",
        "FN = cm[1, 0] # False Negative\n",
        "TP = cm[1, 1] # True Positive"
      ],
      "metadata": {
        "id": "HXoZLGf8TJlW"
      },
      "execution_count": 19,
      "outputs": []
    },
    {
      "cell_type": "code",
      "source": [
        "# accuracy\n",
        "a = (TP + TN) / (TN + FP + FN + TP)\n",
        "a"
      ],
      "metadata": {
        "colab": {
          "base_uri": "https://localhost:8080/"
        },
        "id": "ORhbeMGpgdDm",
        "outputId": "ac892dc4-39e5-40e4-c648-4170f2fe43d8"
      },
      "execution_count": 20,
      "outputs": [
        {
          "output_type": "execute_result",
          "data": {
            "text/plain": [
              "0.9583333333333334"
            ]
          },
          "metadata": {},
          "execution_count": 20
        }
      ]
    },
    {
      "cell_type": "markdown",
      "source": [
        "#### Precision\n",
        "\n",
        "Computed from positives only. Measures what fraction of detections are actually positive or measures the accuracy of the positive predictions\n",
        "$$\n",
        "\\text{precision} = \\frac{TP}{TP + FP}\n",
        "$$"
      ],
      "metadata": {
        "id": "qJa1SbE2Vjzt"
      }
    },
    {
      "cell_type": "code",
      "source": [
        "p = TP / (TP + FP)\n",
        "p"
      ],
      "metadata": {
        "colab": {
          "base_uri": "https://localhost:8080/"
        },
        "id": "h1DtbvRAVkZt",
        "outputId": "66444bbf-3aa5-42b1-962d-990b35d9efa8"
      },
      "execution_count": 21,
      "outputs": [
        {
          "output_type": "execute_result",
          "data": {
            "text/plain": [
              "0.9487179487179487"
            ]
          },
          "metadata": {},
          "execution_count": 21
        }
      ]
    },
    {
      "cell_type": "markdown",
      "source": [
        "No need to remember the equations, `sklearn.metrics` contains many of them"
      ],
      "metadata": {
        "id": "eMaOES1dc8di"
      }
    },
    {
      "cell_type": "code",
      "source": [
        "from sklearn.metrics import precision_score\n",
        "precision_score(y_train_virginica, y_train_virginica_pred)"
      ],
      "metadata": {
        "colab": {
          "base_uri": "https://localhost:8080/"
        },
        "id": "5mQpmPQOcqvO",
        "outputId": "d1bd5782-2b52-44a7-8658-f9a1e91f14ba"
      },
      "execution_count": 22,
      "outputs": [
        {
          "output_type": "execute_result",
          "data": {
            "text/plain": [
              "0.9487179487179487"
            ]
          },
          "metadata": {},
          "execution_count": 22
        }
      ]
    },
    {
      "cell_type": "markdown",
      "source": [
        "We can cheat this metric by training a classifier that classifies only 1 instance as positive (the one it is most confident about) and the rest will be classified as negative:\n",
        "$$\n",
        "\\text{precision} = \\frac{1}{1 + 0} = 100\\%\n",
        "$$\n",
        "\n",
        "Such a classifer is not very useful, this is why precision is usually used along with another metric called **recall**"
      ],
      "metadata": {
        "id": "1ACydca6c49D"
      }
    },
    {
      "cell_type": "markdown",
      "source": [
        "#### Recall\n",
        "\n",
        "The ratio of the true positives correctly detected by the classifier Also called sensitivity or true positive rate (TPR)\n",
        "\n",
        "$$\n",
        "\\text{recall} = \\frac{TP}{TP + FN}\n",
        "$$"
      ],
      "metadata": {
        "id": "Ba1QLYf4eKb4"
      }
    },
    {
      "cell_type": "code",
      "source": [
        "r = TP / (TP + FN)\n",
        "r"
      ],
      "metadata": {
        "colab": {
          "base_uri": "https://localhost:8080/"
        },
        "id": "hdaLJzOqe6No",
        "outputId": "8b8a62dc-7fbb-4f8c-e287-bfb24bcfcf47"
      },
      "execution_count": 23,
      "outputs": [
        {
          "output_type": "execute_result",
          "data": {
            "text/plain": [
              "0.925"
            ]
          },
          "metadata": {},
          "execution_count": 23
        }
      ]
    },
    {
      "cell_type": "code",
      "source": [
        "from sklearn.metrics import recall_score\n",
        "recall_score(y_train_virginica, y_train_virginica_pred)"
      ],
      "metadata": {
        "colab": {
          "base_uri": "https://localhost:8080/"
        },
        "id": "ZXJ_1fREe8kj",
        "outputId": "fdb871ed-2ec8-49ab-c3ea-8de485d21def"
      },
      "execution_count": 24,
      "outputs": [
        {
          "output_type": "execute_result",
          "data": {
            "text/plain": [
              "0.925"
            ]
          },
          "metadata": {},
          "execution_count": 24
        }
      ]
    },
    {
      "cell_type": "markdown",
      "source": [
        "#### Precision Recall Trade-Off\n",
        "\n",
        "Look at the notes for a graphical explanation of the trade-off"
      ],
      "metadata": {
        "id": "RgRz7WPWTtxY"
      }
    },
    {
      "cell_type": "code",
      "source": [
        "# change i to test different input instances\n",
        "i = 52\n",
        "\n",
        "# increasing threshold should increase precision and decrease recall and vice versa\n",
        "threshold = 0\n",
        "p = qda_clf.predict([X_train[i, :]]) # predicted class\n",
        "s = qda_clf.decision_function([X_train[i, :]]) # decision function score\n",
        "\n",
        "print(\"predicted:\", p)\n",
        "print(\"true label:\", y_train_virginica[i])\n",
        "\n",
        "print(\"decision function score:\", s)\n",
        "print(f\"prediction using threshold({threshold}):\", s > threshold)"
      ],
      "metadata": {
        "colab": {
          "base_uri": "https://localhost:8080/"
        },
        "id": "xHoe3M0gUBKC",
        "outputId": "d0b6f3a5-37ad-4bd2-ea26-1af5f1b752ce"
      },
      "execution_count": 25,
      "outputs": [
        {
          "output_type": "stream",
          "name": "stdout",
          "text": [
            "predicted: [1]\n",
            "true label: 1\n",
            "decision function score: [11.41694451]\n",
            "prediction using threshold(0): [ True]\n"
          ]
        }
      ]
    },
    {
      "cell_type": "markdown",
      "source": [
        "Let's plot precision and recall curves by comparing the decision function scores with different thresholds"
      ],
      "metadata": {
        "id": "s8ybPLx3Wswv"
      }
    },
    {
      "cell_type": "code",
      "source": [
        "# setting the method attribute to \"decision_function\" result in \"clean\" \n",
        "# decision function scores as opposed to class predictions\n",
        "y_virginica_scores = cross_val_predict(qda_clf, X_train, y_train_virginica,\n",
        "                                       method=\"decision_function\", cv=4)\n",
        "\n",
        "y_virginica_scores"
      ],
      "metadata": {
        "colab": {
          "base_uri": "https://localhost:8080/"
        },
        "id": "9rdPJ9blWlzw",
        "outputId": "abd05ea9-4636-4175-bf3d-faf5fb10c7d0"
      },
      "execution_count": 26,
      "outputs": [
        {
          "output_type": "execute_result",
          "data": {
            "text/plain": [
              "array([-6.23134302e+01,  3.17030393e+00, -3.42897877e+00, -7.37890529e+01,\n",
              "       -5.43323533e+00,  2.13843056e+00, -5.48895556e+00, -8.61439771e-01,\n",
              "        5.80837319e+00,  3.17520321e+00,  4.06899433e+00, -3.49755363e+00,\n",
              "       -8.46149027e+00, -9.00746412e+00, -8.26896788e+00, -6.82611861e+01,\n",
              "       -9.02259370e+01,  1.02654493e+00,  5.93670967e-01, -8.11372193e+01,\n",
              "       -1.09622184e+00, -9.06252883e+01,  3.18873674e+00, -6.78112493e+01,\n",
              "       -1.04394247e+01,  5.29220573e-01,  2.08694039e+00, -7.17291668e+01,\n",
              "        9.36618054e+00, -8.59248684e+01, -8.37038463e+01, -9.82836985e+00,\n",
              "       -4.11216720e+00, -1.06182015e+02,  5.67470512e+00,  1.43185298e+01,\n",
              "       -1.75410091e+01, -1.60477059e+00,  1.63278443e+01,  3.92307054e+00,\n",
              "       -7.00251637e+01, -8.33725665e+00, -9.76319139e+01,  3.59317717e+00,\n",
              "       -7.41846844e+01, -8.36861752e+01,  4.35371135e+00, -8.65083019e+01,\n",
              "       -5.58903972e+01, -7.39180790e+01, -6.92632109e+01, -1.08476102e+01,\n",
              "        1.23849059e+01, -2.99786897e+00, -8.63842417e+01,  3.28174073e+00,\n",
              "       -6.77909097e+00,  1.52582387e+01, -6.99337440e+01,  4.26600019e+00,\n",
              "       -1.00001865e+02, -5.07992766e+00,  6.99463663e+00, -6.18231023e+01,\n",
              "        1.60242185e-01, -2.99857489e+00,  4.52207746e+00, -9.72728958e-01,\n",
              "       -4.77757320e+00,  1.40145170e+01, -8.34690854e+01, -6.77503928e+01,\n",
              "       -8.89537073e+01, -1.60968416e+00, -1.06633994e+01,  4.04464225e+00,\n",
              "       -9.38437278e+00,  1.45234496e+01,  1.79313426e+00, -2.91848509e+00,\n",
              "       -7.35938166e+01,  2.16615560e+01, -2.74150366e+00, -6.88222040e+01,\n",
              "        9.68796163e+00, -1.01363284e+02,  1.10747744e+01, -1.44587751e+01,\n",
              "       -5.92703786e+00, -6.79789140e+01, -8.60286927e+00,  3.37634435e+00,\n",
              "       -1.07207461e+02, -1.07115116e+02,  4.56942853e+00, -1.67817624e+00,\n",
              "        4.62645253e+00, -5.15053977e+00,  7.22636196e-01, -1.28057563e+02,\n",
              "        6.47338352e+00, -9.14931391e+00,  5.03112738e+00,  4.00146009e+00,\n",
              "       -1.34800915e+02, -1.21772580e+01, -3.44260103e+00, -1.08414521e+01,\n",
              "       -1.05541660e+01, -1.32525594e+01, -1.24834166e+02,  3.28011330e+00,\n",
              "       -9.27286831e+00, -8.45461195e+00, -1.06461035e+02, -1.28890550e+02,\n",
              "       -1.11694083e+02, -1.65912746e+02, -5.24487519e+00, -9.65738256e+01])"
            ]
          },
          "metadata": {},
          "execution_count": 26
        }
      ]
    },
    {
      "cell_type": "code",
      "source": [
        "from sklearn.metrics import precision_recall_curve\n",
        "\n",
        "precisions, recalls, thresholds = precision_recall_curve(y_train_virginica, y_virginica_scores)"
      ],
      "metadata": {
        "id": "v3q_GNv_Xk9S"
      },
      "execution_count": 27,
      "outputs": []
    },
    {
      "cell_type": "code",
      "source": [
        "threshold = 0"
      ],
      "metadata": {
        "id": "18sWBZ0PsECE"
      },
      "execution_count": 28,
      "outputs": []
    },
    {
      "cell_type": "code",
      "source": [
        "plt.figure(figsize=(8 ,4))\n",
        "plt.plot(thresholds, precisions[:-1], \"b--\", label=\"Precision\", linewidth=2)\n",
        "plt.plot(thresholds, recalls[:-1], \"g-\", label=\"Recall\", linewidth=2)\n",
        "\n",
        "idx = (thresholds >= threshold).argmax() # first index >= threshold\n",
        "actual_threshold = thresholds[idx]\n",
        "plt.plot(actual_threshold, precisions[idx], \"bo\")\n",
        "plt.plot(actual_threshold, recalls[idx], \"go\")\n",
        "plt.vlines(actual_threshold, 0, 1.0, \"k\", \"dotted\", label=\"threshold={:.2f}\".format(actual_threshold))\n",
        "plt.grid()\n",
        "plt.xlabel(\"Threshold\")\n",
        "plt.legend(loc=\"center right\")\n",
        "plt.show()"
      ],
      "metadata": {
        "colab": {
          "base_uri": "https://localhost:8080/",
          "height": 283
        },
        "id": "9XFLmKTVYOTC",
        "outputId": "d06db54d-f748-450a-e3ce-36723267bf49"
      },
      "execution_count": 29,
      "outputs": [
        {
          "output_type": "display_data",
          "data": {
            "text/plain": [
              "<Figure size 576x288 with 1 Axes>"
            ],
            "image/png": "[encoded data removed]"
          },
          "metadata": {
            "needs_background": "light"
          }
        }
      ]
    },
    {
      "cell_type": "markdown",
      "source": [
        "We can also plot recall VS precision"
      ],
      "metadata": {
        "id": "idkB5tQ4lWal"
      }
    },
    {
      "cell_type": "code",
      "source": [
        "plt.figure(figsize=(7, 5))\n",
        "plt.plot(recalls, precisions, linewidth=2, label=\"Precision/Recall curve\")\n",
        "plt.xlabel(\"Recall\")\n",
        "plt.ylabel(\"Precision\")\n",
        "plt.grid()\n",
        "\n",
        "\n",
        "plt.plot([recalls[idx], recalls[idx]],\n",
        "         [precisions[0], precisions[idx]], \"k:\")\n",
        "\n",
        "plt.plot([0.0, recalls[idx]],\n",
        "         [precisions[idx], precisions[idx]],\n",
        "         \"k:\")\n",
        "\n",
        "plt.plot([recalls[idx]], [precisions[idx]], \"ko\",\n",
        "         label=\"Point at threshold={:.2f}\".format(actual_threshold))\n",
        "\n",
        "plt.legend(loc=(\"lower left\"))\n",
        "\n",
        "plt.show()\n"
      ],
      "metadata": {
        "colab": {
          "base_uri": "https://localhost:8080/",
          "height": 338
        },
        "id": "bkiJ3YJMbBwa",
        "outputId": "d35256f0-ceac-4478-95e8-33d562855494"
      },
      "execution_count": 30,
      "outputs": [
        {
          "output_type": "display_data",
          "data": {
            "text/plain": [
              "<Figure size 504x360 with 1 Axes>"
            ],
            "image/png": "[encoded data removed]"
          },
          "metadata": {
            "needs_background": "light"
          }
        }
      ]
    },
    {
      "cell_type": "markdown",
      "source": [
        "Hugging the top right is the best one can do."
      ],
      "metadata": {
        "id": "FoYKOCU_8saV"
      }
    },
    {
      "cell_type": "markdown",
      "source": [
        "Find the threshold for a specific precisions"
      ],
      "metadata": {
        "id": "b1UCM9sPrkL9"
      }
    },
    {
      "cell_type": "code",
      "source": [
        "needed_precisions = 0.965\n",
        "idx_for_needed_precision =(precisions >= needed_precisions).argmax()\n",
        "threshold = thresholds[idx_for_needed_precision]\n",
        "y_virginica_threshold_predictions = y_virginica_scores >= threshold\n",
        "print(\"threshold =\", threshold)\n",
        "print(\"precisions =\", precision_score(y_train_virginica, y_virginica_threshold_predictions))\n",
        "print(\"recall =\", recall_score(y_train_virginica, y_virginica_threshold_predictions))"
      ],
      "metadata": {
        "colab": {
          "base_uri": "https://localhost:8080/"
        },
        "id": "0mHWiNpxrh1n",
        "outputId": "693bcdd6-0497-4c6e-eefb-e0d5ae99be87"
      },
      "execution_count": 31,
      "outputs": [
        {
          "output_type": "stream",
          "name": "stdout",
          "text": [
            "threshold = 0.5292205726937165\n",
            "precisions = 0.9736842105263158\n",
            "recall = 0.925\n"
          ]
        }
      ]
    },
    {
      "cell_type": "markdown",
      "source": [
        "The previous code segments gives us the first threshold for the desired precision regardless of the recall. In the graph above you can see that precision is not monotonic and at precision of 0.96 there are 2 recall values, you might want to pick the threshold that gives you the higher precision and higher recall.\n",
        "\n",
        "Remember, whenever you set a precision target, you should also ask yourself at what recall rate."
      ],
      "metadata": {
        "id": "6eS8ngeQuYac"
      }
    },
    {
      "cell_type": "markdown",
      "source": [
        "#### F-scores\n",
        "\n",
        "For a fixed threshold, corresponding to a single point on the precision/recall curve, we can combine the precision and recall into a single value that tells us the quality of the classifier.\n",
        "\n",
        "$$\n",
        "F_{\\beta} = (1 + \\beta^2) \n",
        "    \\frac{\\text{precision} \\times \\text{recall}}\n",
        "         {\\beta^2 \\text{precision} + \\text{recall}}\n",
        "$$\n",
        "\n",
        "The value of $\\beta$ can be interpreted as recall is $\\beta$ more important than precision.\n",
        "\n",
        "For example $\\beta = 1$ means recall and precision have the same importance.\n",
        "\n",
        "$$\n",
        "F_1 = 2 \\times\n",
        "  \\frac{\\text{precision} \\times \\text{recall}}\n",
        "         {\\text{precision} + \\text{recall}}\n",
        "$$\n",
        "Which is what we call the harmonic mean (as opposed to the arithmetic mean we are used to). Harmonic mean favors classifiers with higher and roughly equal precision and recall.\n",
        "\n",
        "* $\\beta = 0$ considers only precision\n",
        "* $\\beta \\rightarrow \\infty$ considers only recall\n",
        "* $\\beta < 1$ precision is more important than recall\n",
        "* $\\beta > 1$ recall is more imporant than precision"
      ],
      "metadata": {
        "id": "wDw8dJeJ248I"
      }
    },
    {
      "cell_type": "code",
      "source": [
        "from sklearn.metrics import fbeta_score, f1_score\n",
        "\n",
        "print(\"threshold =\", threshold)\n",
        "print(\"precisions =\", precision_score(y_train_virginica, y_virginica_threshold_predictions))\n",
        "print(\"recall =\", recall_score(y_train_virginica, y_virginica_threshold_predictions))\n",
        "\n",
        "print(\"F1 score=\", f1_score(y_train_virginica, y_virginica_threshold_predictions))\n",
        "print(\"Fbeta score (Beta = 1)=\", fbeta_score(y_train_virginica, y_virginica_threshold_predictions, beta=1))\n",
        "print(\"Fbeta score (Beta = 0.5)=\", fbeta_score(y_train_virginica, y_virginica_threshold_predictions, beta=0.5))\n",
        "print(\"Fbeta score (Beta = 2)=\", fbeta_score(y_train_virginica, y_virginica_threshold_predictions, beta=2))\n"
      ],
      "metadata": {
        "colab": {
          "base_uri": "https://localhost:8080/"
        },
        "id": "0U67Y0XZsViQ",
        "outputId": "6baa008b-fe7c-4da0-a4c4-353e48f527b7"
      },
      "execution_count": 32,
      "outputs": [
        {
          "output_type": "stream",
          "name": "stdout",
          "text": [
            "threshold = 0.5292205726937165\n",
            "precisions = 0.9736842105263158\n",
            "recall = 0.925\n",
            "F1 score= 0.9487179487179489\n",
            "Fbeta score (Beta = 1)= 0.9487179487179489\n",
            "Fbeta score (Beta = 0.5)= 0.9635416666666666\n",
            "Fbeta score (Beta = 2)= 0.9343434343434343\n"
          ]
        }
      ]
    },
    {
      "cell_type": "code",
      "source": [
        "# show the value of F1 scores for different precision/recall combination\n",
        "# the F1 score favors high and matching values of precision and recall\n",
        "def my_f1score(p, r):\n",
        "  if (p + r == 0):\n",
        "    return 0\n",
        "  else:\n",
        "    return 2 * (p * r) / (p + r)\n",
        "\n",
        "print(\"\\t\", end='')\n",
        "\n",
        "for r in np.linspace(0, 1.0, 6):\n",
        "  print(\"r={:.2f}\".format(r),end='\\t')\n",
        "\n",
        "print()\n",
        "print(\"-\"*60)\n",
        "\n",
        "for p in np.linspace(0, 1.0, 6):\n",
        "  print(\"p={:.2f}|\".format(p), end='\\t')\n",
        "  for r in np.linspace(0, 1.0, 6):\n",
        "    print(\"  {:.2f}\".format(my_f1score(p, r)), end='\\t')\n",
        "  print()\n"
      ],
      "metadata": {
        "colab": {
          "base_uri": "https://localhost:8080/"
        },
        "id": "B2PzoWqquI8d",
        "outputId": "2fe6ccd9-c6ea-4483-fe9b-a44389da6f98"
      },
      "execution_count": 33,
      "outputs": [
        {
          "output_type": "stream",
          "name": "stdout",
          "text": [
            "\tr=0.00\tr=0.20\tr=0.40\tr=0.60\tr=0.80\tr=1.00\t\n",
            "------------------------------------------------------------\n",
            "p=0.00|\t  0.00\t  0.00\t  0.00\t  0.00\t  0.00\t  0.00\t\n",
            "p=0.20|\t  0.00\t  0.20\t  0.27\t  0.30\t  0.32\t  0.33\t\n",
            "p=0.40|\t  0.00\t  0.27\t  0.40\t  0.48\t  0.53\t  0.57\t\n",
            "p=0.60|\t  0.00\t  0.30\t  0.48\t  0.60\t  0.69\t  0.75\t\n",
            "p=0.80|\t  0.00\t  0.32\t  0.53\t  0.69\t  0.80\t  0.89\t\n",
            "p=1.00|\t  0.00\t  0.33\t  0.57\t  0.75\t  0.89\t  1.00\t\n"
          ]
        }
      ]
    },
    {
      "cell_type": "markdown",
      "source": [
        "#### The Receiver Operating Characteristic (ROC) Curve\n",
        "\n",
        "Plot the True Positive Rate (TPR) also known as Recall vs the False Positive Rate (FPR) also known as Fallout at different thresholds.\n",
        "\n",
        "$$\n",
        "\\text{recall} = \\frac{TP}{TP + FN}\n",
        "$$\n",
        "\n",
        "FPR/Fallout is the ratio of negative instances that are incorrectly classified as positive.\n",
        "\n",
        "$$\n",
        "\\text{False Positive Rate} = \\frac{FP}{FP + TN}\n",
        "$$"
      ],
      "metadata": {
        "id": "XjI6LXfUwEdv"
      }
    },
    {
      "cell_type": "code",
      "source": [
        "# similar to precision_recall_curve\n",
        "from sklearn.metrics import roc_curve\n",
        "\n",
        "fpr, tpr, thresholds = roc_curve(y_train_virginica, y_virginica_scores)"
      ],
      "metadata": {
        "id": "sJXKHh3t-mZm"
      },
      "execution_count": 34,
      "outputs": []
    },
    {
      "cell_type": "code",
      "source": [
        "idx_for_threshold = (thresholds <= threshold).argmax()\n",
        "tpr_at_threshold, fpr_at_threshold = tpr[idx_for_threshold], fpr[idx_for_threshold]\n",
        "\n",
        "plt.figure(figsize=(7, 5))\n",
        "plt.plot(fpr, tpr, linewidth=2, label=\"ROC curve\")\n",
        "plt.plot([fpr_at_threshold], [tpr_at_threshold], \"ko\", label=\"Threshold\")\n",
        "plt.xlabel(\"False Positive Rate (Fallout)\")\n",
        "plt.ylabel(\"True Positive Rate (Recall)\")\n",
        "plt.grid()\n",
        "\n",
        "\n",
        "plt.legend(loc=\"lower right\", fontsize=13)\n",
        "plt.show()"
      ],
      "metadata": {
        "colab": {
          "base_uri": "https://localhost:8080/",
          "height": 338
        },
        "id": "X1SWRXcZ-9M6",
        "outputId": "888e5086-547f-4a78-805d-4c60ab0fd3d7"
      },
      "execution_count": 35,
      "outputs": [
        {
          "output_type": "display_data",
          "data": {
            "text/plain": [
              "<Figure size 504x360 with 1 Axes>"
            ],
            "image/png": "[encoded data removed]"
          },
          "metadata": {
            "needs_background": "light"
          }
        }
      ]
    },
    {
      "cell_type": "markdown",
      "source": [
        "We want to go toward the top-left corner"
      ],
      "metadata": {
        "id": "Mcj6qkptHLjw"
      }
    },
    {
      "cell_type": "markdown",
      "source": [
        "We can summarize the ROC curve by its area under the curve or AUC. The maximum AUC is 1"
      ],
      "metadata": {
        "id": "MSiHvsoVBbbK"
      }
    },
    {
      "cell_type": "code",
      "source": [
        "from sklearn.metrics import roc_auc_score\n",
        "\n",
        "roc_auc_score(y_train_virginica, y_virginica_scores)"
      ],
      "metadata": {
        "colab": {
          "base_uri": "https://localhost:8080/"
        },
        "id": "4n_bhCQQ_Ldj",
        "outputId": "86c209d3-2bbd-4611-dc07-7ef423ccd59f"
      },
      "execution_count": 36,
      "outputs": [
        {
          "output_type": "execute_result",
          "data": {
            "text/plain": [
              "0.991875"
            ]
          },
          "metadata": {},
          "execution_count": 36
        }
      ]
    },
    {
      "cell_type": "markdown",
      "source": [
        "The ROC curve is insensitive to class imbalance; however the precision/recall curve is not. The classification problem in this notebook has a class imbalance (there are more not virginical compared to virginical flowers). This is why the ROC AUC indicate the classifier is almost perfect; whereas, the F1 score says there is a bit of room for improvement "
      ],
      "metadata": {
        "id": "IubbM8KCBIhd"
      }
    },
    {
      "cell_type": "markdown",
      "source": [
        "## Multiclass (Multinomial) Classifier\n",
        "\n",
        "Multiclass classifiers can distinguish between more than two classes. Please note, however, an input can only belong to one class.\n",
        "\n",
        "The original problem of classifying three types of Iris flowers is an example of mutliclass classifier. A flower can only be Virginica, Setosa, or Versicolor\n",
        "\n",
        "Some classifiers such as Quadratic Descriminative Analaysis and Gaussian Naive Bayes natively support multinomial classification. However, there are classifiers that are strictly binary such as Support Vector Machine classifiers. \n",
        "\n",
        "There are strategies to use binary classifiers in multiclass problems:\n",
        "\n",
        "1- **One-versus-the-Rest (OvR)** also known as **One-versus-All (OvA)**\n",
        "\n",
        "Train a separate binary classifier for each class, a total of $k$ classifiers. For example, for the $k=3$ Iris flowers train $3$ classifiers:\n",
        "  * Virginica vs Not Virginica\n",
        "  * Setosa vs Not Setosa\n",
        "  * Versicolor vs Not Versicolor\n",
        "\n",
        "Get the decision score for each of the classifiers and select the class whose classifier outputs the highest score.\n",
        "\n",
        "2- **One-versus-One (OvO)**\n",
        "Train a binary classifier for every pair of classes, a total of $k(k - 1)/2$. For example, for the $k=3$ Iris flowers train $3(3-1)/2=3$ classifiers:\n",
        "  * Verginica vs Setosa\n",
        "  * Verginica vs Versicolor\n",
        "  * Setosa vs Versicolor\n",
        "\n",
        "The class which wins the most duels between the trained classifiers win.\n",
        "\n",
        "Each of the classifiers in OvO uses a subset of the training set for the two classes it must distinguish. This makes OvO preferable for algorithms that do not scale well with the size of the training set (i.e. train many classifiers on smaller trainin sets vs training few classifiers on larger trainin sets). Yet, for most classification problems, OvR is preferred.\n",
        "\n"
      ],
      "metadata": {
        "id": "I3q2nmUPWPqO"
      }
    },
    {
      "cell_type": "code",
      "source": [
        "# QDA natively support multiclass classification\n",
        "\n",
        "from sklearn.model_selection import cross_validate\n",
        "\n",
        "qda_clf = QuadraticDiscriminantAnalysis()\n",
        "qda_clf.fit(X_train, y_train)\n",
        "scores = cross_validate(qda_clf, X_train, y_train, \n",
        "                        cv=4, scoring=(\"accuracy\", \"precision_weighted\", \n",
        "                                       \"recall_weighted\", \"f1_weighted\"))\n",
        "\n",
        "scores\n"
      ],
      "metadata": {
        "colab": {
          "base_uri": "https://localhost:8080/"
        },
        "id": "Q81kJxVXakQZ",
        "outputId": "9fd430bb-67bf-4125-9925-752272a97a3c"
      },
      "execution_count": 37,
      "outputs": [
        {
          "output_type": "execute_result",
          "data": {
            "text/plain": [
              "{'fit_time': array([0.00126791, 0.00134158, 0.00132465, 0.00086284]),\n",
              " 'score_time': array([0.00522089, 0.00522566, 0.00300908, 0.0029242 ]),\n",
              " 'test_accuracy': array([0.96666667, 0.93333333, 1.        , 1.        ]),\n",
              " 'test_precision_weighted': array([0.96969697, 0.94444444, 1.        , 1.        ]),\n",
              " 'test_recall_weighted': array([0.96666667, 0.93333333, 1.        , 1.        ]),\n",
              " 'test_f1_weighted': array([0.96658312, 0.93265993, 1.        , 1.        ])}"
            ]
          },
          "metadata": {},
          "execution_count": 37
        }
      ]
    },
    {
      "cell_type": "markdown",
      "source": [
        "Some metrics:"
      ],
      "metadata": {
        "id": "BN-f9riJg8pc"
      }
    },
    {
      "cell_type": "code",
      "source": [
        "print(\"average accuracy = \", scores[\"test_accuracy\"].mean())\n",
        "print(\"average precision_weighted = \", scores[\"test_precision_weighted\"].mean())\n",
        "print(\"average recall_weighted = \", scores[\"test_recall_weighted\"].mean())\n",
        "print(\"average f1_weighted = \", scores[\"test_f1_weighted\"].mean())"
      ],
      "metadata": {
        "colab": {
          "base_uri": "https://localhost:8080/"
        },
        "id": "4jUem7Nnfbk7",
        "outputId": "e1aabb69-c026-4a8c-adab-fe544813fdbb"
      },
      "execution_count": 38,
      "outputs": [
        {
          "output_type": "stream",
          "name": "stdout",
          "text": [
            "average accuracy =  0.975\n",
            "average precision_weighted =  0.9785353535353536\n",
            "average recall_weighted =  0.975\n",
            "average f1_weighted =  0.9748107642844485\n"
          ]
        }
      ]
    },
    {
      "cell_type": "code",
      "source": [
        "i = 55\n",
        "\n",
        "flower_sample = X_train[i, :]\n",
        "print(\"Actual class:\", y_train[i])\n",
        "print(\"Predicted class:\", qda_clf.predict([flower_sample]))\n",
        "print(\"Decision function:\", qda_clf.decision_function([flower_sample]))\n"
      ],
      "metadata": {
        "colab": {
          "base_uri": "https://localhost:8080/"
        },
        "id": "VxbepUE4cXfP",
        "outputId": "cbd7c3a5-4dc0-4afd-85fa-4c69cc7cf173"
      },
      "execution_count": 39,
      "outputs": [
        {
          "output_type": "stream",
          "name": "stdout",
          "text": [
            "Actual class: 2\n",
            "Predicted class: [2]\n",
            "Decision function: [[-306.59866379   -0.73403998    1.88721013]]\n"
          ]
        }
      ]
    },
    {
      "cell_type": "markdown",
      "source": [
        "When you try to use a binary classification algorithm for a multiclass classification problem, Scikit-Learn automatically runs OvR or OvO depending on the algorithm. Support Vector Classification [SVC](https://scikit-learn.org/stable/modules/generated/sklearn.svm.SVC.html#sklearn.svm.SVC) is strictly binary, when used for multiclass problems it automatically uses OvO\n"
      ],
      "metadata": {
        "id": "LMBLtESehDki"
      }
    },
    {
      "cell_type": "code",
      "source": [
        "from sklearn.svm import SVC\n",
        "\n",
        "svc_clf = SVC(random_state=42, decision_function_shape='ovr') #set shape to ovr or ovo\n",
        "svc_clf.fit(X_train, y_train)\n"
      ],
      "metadata": {
        "colab": {
          "base_uri": "https://localhost:8080/"
        },
        "id": "EHqriyjPgIze",
        "outputId": "8ade986c-b9a4-4631-b6c4-589146a97d56"
      },
      "execution_count": 40,
      "outputs": [
        {
          "output_type": "execute_result",
          "data": {
            "text/plain": [
              "SVC(random_state=42)"
            ]
          },
          "metadata": {},
          "execution_count": 40
        }
      ]
    },
    {
      "cell_type": "code",
      "source": [
        "i = 55\n",
        "\n",
        "flower_sample = X_train[i, :]\n",
        "print(\"Actual class:\", y_train[i])\n",
        "print(\"Predicted class:\", svc_clf.predict([flower_sample]))\n",
        "print(\"Decision function:\", svc_clf.decision_function([flower_sample]))"
      ],
      "metadata": {
        "colab": {
          "base_uri": "https://localhost:8080/"
        },
        "id": "ym42gdy0oJgA",
        "outputId": "fca4b07f-8a53-4404-b1d5-fcfc63d8aae2"
      },
      "execution_count": 41,
      "outputs": [
        {
          "output_type": "stream",
          "name": "stdout",
          "text": [
            "Actual class: 2\n",
            "Predicted class: [2]\n",
            "Decision function: [[-0.23812461  1.17058234  2.19744315]]\n"
          ]
        }
      ]
    },
    {
      "cell_type": "markdown",
      "source": [
        "`SVC` uses OvO; however, the Decision function scores shown above depend on the `decision_function_shape` if it set to:\n",
        "\n",
        "   * `ovo` then it will show the original One-vs-One scores where the class is decided by by a majority vote. \n",
        "   * `ovr` then it will show aggregated scores in the shape of One-vs-Rest where the class is decided by which class has the highest score.\n",
        "\n"
      ],
      "metadata": {
        "id": "sbJN9yo5ps9l"
      }
    },
    {
      "cell_type": "markdown",
      "source": [
        "You can force scikit-learn to use One-versus-One or One-versus-Rest with any classifier by using `OneVsOneClassifier` or `OneVsRestClassifier` classes. Just create an instance of the class and pass a classifier to its constructor."
      ],
      "metadata": {
        "id": "yxZSRKzyrR4h"
      }
    },
    {
      "cell_type": "code",
      "source": [
        "from sklearn.multiclass import OneVsRestClassifier\n",
        "\n",
        "ovr_clf = OneVsRestClassifier(SVC(random_state=42))\n",
        "ovr_clf.fit(X_train, y_train)"
      ],
      "metadata": {
        "colab": {
          "base_uri": "https://localhost:8080/"
        },
        "id": "USOjcZPCsWnK",
        "outputId": "fe28a8f7-8497-49fa-aecb-fa20801eeb8d"
      },
      "execution_count": 42,
      "outputs": [
        {
          "output_type": "execute_result",
          "data": {
            "text/plain": [
              "OneVsRestClassifier(estimator=SVC(random_state=42))"
            ]
          },
          "metadata": {},
          "execution_count": 42
        }
      ]
    },
    {
      "cell_type": "code",
      "source": [
        "# there should be 3 OvR classifers\n",
        "ovr_clf.estimators_"
      ],
      "metadata": {
        "colab": {
          "base_uri": "https://localhost:8080/"
        },
        "id": "0CV1RjJAsoix",
        "outputId": "08ec5106-58ad-4d28-83a8-e0621b49c5e8"
      },
      "execution_count": 43,
      "outputs": [
        {
          "output_type": "execute_result",
          "data": {
            "text/plain": [
              "[SVC(random_state=42), SVC(random_state=42), SVC(random_state=42)]"
            ]
          },
          "metadata": {},
          "execution_count": 43
        }
      ]
    },
    {
      "cell_type": "code",
      "source": [
        "i = 55\n",
        "\n",
        "flower_sample = X_train[i, :]\n",
        "print(\"Actual class:\", y_train[i])\n",
        "print(\"Predicted class:\", ovr_clf.predict([flower_sample]))\n",
        "print(\"Decision function:\", ovr_clf.decision_function([flower_sample]))"
      ],
      "metadata": {
        "colab": {
          "base_uri": "https://localhost:8080/"
        },
        "id": "OmvP3HGr3LCR",
        "outputId": "51adc765-50ce-44e4-f620-93abfce04945"
      },
      "execution_count": 44,
      "outputs": [
        {
          "output_type": "stream",
          "name": "stdout",
          "text": [
            "Actual class: 2\n",
            "Predicted class: [2]\n",
            "Decision function: [[-1.60162267 -0.19268756  0.39014622]]\n"
          ]
        }
      ]
    },
    {
      "cell_type": "markdown",
      "source": [
        "As you see, the decision function scores are not the same as the aggregated scores using `SVC` with the `decision_function_shape='ovr'`"
      ],
      "metadata": {
        "id": "3-jn7yhJG5nw"
      }
    },
    {
      "cell_type": "code",
      "source": [
        "cross_val_score(ovr_clf, X_train, y_train, cv=3, scoring=\"precision_weighted\")"
      ],
      "metadata": {
        "colab": {
          "base_uri": "https://localhost:8080/"
        },
        "id": "jdodbMnn3kW7",
        "outputId": "9912d41c-310f-431c-f91b-5b65c886533b"
      },
      "execution_count": 45,
      "outputs": [
        {
          "output_type": "execute_result",
          "data": {
            "text/plain": [
              "array([0.95666667, 0.95      , 0.97678571])"
            ]
          },
          "metadata": {},
          "execution_count": 45
        }
      ]
    },
    {
      "cell_type": "markdown",
      "source": [
        "## Error Analysis\n",
        "\n",
        "Let's generate \"clean\" \"out-of-sample\" predictions using `cross_val_predict` then use the predictions along with the lables to construct a confusion matrix.\n",
        "\n",
        "The confusion matrix will allow us to focus on the errors made by the model\n"
      ],
      "metadata": {
        "id": "IPRlmBpk4NXW"
      }
    },
    {
      "cell_type": "code",
      "source": [
        "y_train_pred = cross_val_predict(qda_clf, X_train, y_train, cv=4)\n",
        "cm = confusion_matrix(y_train, y_train_pred)\n",
        "cm"
      ],
      "metadata": {
        "colab": {
          "base_uri": "https://localhost:8080/"
        },
        "id": "eCaB8rze470T",
        "outputId": "eba17e7a-15ef-4a45-e538-9e132ea1c1ee"
      },
      "execution_count": 46,
      "outputs": [
        {
          "output_type": "execute_result",
          "data": {
            "text/plain": [
              "array([[40,  0,  0],\n",
              "       [ 0, 38,  2],\n",
              "       [ 0,  1, 39]])"
            ]
          },
          "metadata": {},
          "execution_count": 46
        }
      ]
    },
    {
      "cell_type": "markdown",
      "source": [
        "We can view the confusion matrix with colors, this will be especially useful for multiclass problems with many classes"
      ],
      "metadata": {
        "id": "vmlFFPVKDian"
      }
    },
    {
      "cell_type": "code",
      "source": [
        "from sklearn.metrics import ConfusionMatrixDisplay\n",
        "ConfusionMatrixDisplay.from_predictions(y_train, y_train_pred)\n",
        "plt.title(\"Confusion Matrix\", fontsize=16)\n",
        "plt.show()"
      ],
      "metadata": {
        "colab": {
          "base_uri": "https://localhost:8080/",
          "height": 301
        },
        "id": "Tojk2HffDtn5",
        "outputId": "19bf9b6e-6450-4b37-fc86-7bc9dee319f1"
      },
      "execution_count": 47,
      "outputs": [
        {
          "output_type": "display_data",
          "data": {
            "text/plain": [
              "<Figure size 432x288 with 2 Axes>"
            ],
            "image/png": "[encoded data removed]"
          },
          "metadata": {
            "needs_background": "light"
          }
        }
      ]
    },
    {
      "cell_type": "markdown",
      "source": [
        "The classifier seems good, most of the numbers are on the diagonal. So these instances were classifed correctly.\n",
        "\n",
        "The classifier seems to make 3 errors. (2 of class 1 classifed as 1 and 1 of class 2 classifed as 1). \n",
        "\n",
        "If we normalize the confusion matrix by rows we get the percentages of errors as opposed to the raw numbers"
      ],
      "metadata": {
        "id": "5iK1fzAXDzwU"
      }
    },
    {
      "cell_type": "code",
      "source": [
        "ConfusionMatrixDisplay.from_predictions(y_train, y_train_pred, \n",
        "                                        normalize=\"true\", values_format=\".0%\")\n",
        "plt.title(\"Confusion Matrix normalized by row\", fontsize=16)\n",
        "\n",
        "plt.show()"
      ],
      "metadata": {
        "colab": {
          "base_uri": "https://localhost:8080/",
          "height": 301
        },
        "id": "3jhMGO2vEXkm",
        "outputId": "15d1632c-e3f5-4816-a1d8-25483f3c1584"
      },
      "execution_count": 48,
      "outputs": [
        {
          "output_type": "display_data",
          "data": {
            "text/plain": [
              "<Figure size 432x288 with 2 Axes>"
            ],
            "image/png": "[encoded data removed]"
          },
          "metadata": {
            "needs_background": "light"
          }
        }
      ]
    },
    {
      "cell_type": "markdown",
      "source": [
        "5% of instances from class 1 are misclassifed as class 2 and 2% of class 2 are misclassifed as class 1.\n",
        "\n",
        "As we can see the confusion matrix is not symmetrical."
      ],
      "metadata": {
        "id": "FoB4WenwEw-v"
      }
    },
    {
      "cell_type": "markdown",
      "source": [
        "We can look at the instances that were misclassifed"
      ],
      "metadata": {
        "id": "Tv2XRokCGeq1"
      }
    },
    {
      "cell_type": "code",
      "source": [
        "misclassified_idx = y_train != y_train_pred\n",
        "misclassified = X_train[misclassified_idx, :]\n"
      ],
      "metadata": {
        "id": "7geD8QmHGjVu"
      },
      "execution_count": 49,
      "outputs": []
    },
    {
      "cell_type": "markdown",
      "source": [
        "We can also plot them"
      ],
      "metadata": {
        "id": "fETijofmG3wK"
      }
    },
    {
      "cell_type": "code",
      "source": [
        "plt.figure(figsize=(10, 8))\n",
        "for c in np.unique(y_train):\n",
        "  plt.scatter(X_train[:, 2][y_train == c], \n",
        "              X_train[:, 3][y_train == c], \n",
        "              label=iris.target_names[c])\n",
        "for m in misclassified:\n",
        "  plt.scatter(m[2], m[3], s=180, zorder=-1, facecolors='#AAA')\n",
        "plt.xlabel(\"petal length\")\n",
        "plt.ylabel(\"petal width\")\n",
        "plt.legend()\n",
        "plt.show()"
      ],
      "metadata": {
        "colab": {
          "base_uri": "https://localhost:8080/",
          "height": 501
        },
        "id": "MMXmjbX9GpLq",
        "outputId": "44f92a88-9700-4c03-ed47-cf6909b9dd10"
      },
      "execution_count": 50,
      "outputs": [
        {
          "output_type": "display_data",
          "data": {
            "text/plain": [
              "<Figure size 720x576 with 1 Axes>"
            ],
            "image/png": "[encoded data removed]"
          },
          "metadata": {
            "needs_background": "light"
          }
        }
      ]
    },
    {
      "cell_type": "markdown",
      "source": [
        "The misclassified instances are close to the boundary between the classes"
      ],
      "metadata": {
        "id": "mXVQWlyFHSsV"
      }
    }
  ]
}